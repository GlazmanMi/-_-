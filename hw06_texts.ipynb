{
  "cells": [
    {
      "cell_type": "markdown",
      "metadata": {
        "id": "Ffq6A2-ifzAA"
      },
      "source": [
        "# Интеллектуальный анализ данных – весна 2024\n",
        "# Домашнее задание 6: классификация текстов"
      ]
    },
    {
      "cell_type": "markdown",
      "metadata": {
        "id": "EPcxtekTA1Sm"
      },
      "source": [
        "Правила:\n",
        "\n",
        "\n",
        "\n",
        "*   Домашнее задание оценивается в 10 баллов.\n",
        "*   Можно использовать без доказательства любые результаты, встречавшиеся на лекциях или семинарах по курсу, если получение этих результатов не является вопросом задания.\n",
        "*  Можно использовать любые свободные источники с *обязательным* указанием ссылки на них.\n",
        "*  Плагиат не допускается. При обнаружении случаев списывания, 0 за работу выставляется всем участникам нарушения, даже если можно установить, кто у кого списал.\n",
        "*  Старайтесь сделать код как можно более оптимальным. В частности, будет штрафоваться использование циклов в тех случаях, когда операцию можно совершить при помощи инструментов библиотек, о которых рассказывалось в курсе."
      ]
    },
    {
      "cell_type": "markdown",
      "metadata": {
        "id": "itRtFtrOf0_b"
      },
      "source": [
        "В этом домашнем задании вам предстоит построить классификатор текстов.\n",
        "\n",
        "Будем предсказывать эмоциональную окраску твиттов о коронавирусе.\n",
        "\n"
      ]
    },
    {
      "cell_type": "code",
      "execution_count": 2,
      "metadata": {
        "id": "tNGRVO7_g9mz"
      },
      "outputs": [
        {
          "name": "stderr",
          "output_type": "stream",
          "text": [
            "C:\\Users\\m.glazman\\AppData\\Local\\Temp\\ipykernel_19784\\3634739394.py:2: DeprecationWarning: \n",
            "Pyarrow will become a required dependency of pandas in the next major release of pandas (pandas 3.0),\n",
            "(to allow more performant data types, such as the Arrow string type, and better interoperability with other libraries)\n",
            "but was not found to be installed on your system.\n",
            "If this would cause problems for you,\n",
            "please provide us feedback at https://github.com/pandas-dev/pandas/issues/54466\n",
            "        \n",
            "  import pandas as pd\n"
          ]
        }
      ],
      "source": [
        "import numpy as np\n",
        "import pandas as pd\n",
        "from typing import  List\n",
        "import matplotlib.pyplot as plt\n",
        "import seaborn as sns\n",
        "from string import punctuation"
      ]
    },
    {
      "cell_type": "code",
      "execution_count": 3,
      "metadata": {
        "colab": {
          "base_uri": "https://localhost:8080/",
          "height": 174
        },
        "id": "zOy8iHJQg_Ss",
        "outputId": "01951c93-1976-4fd2-b432-f9ec217dbd17"
      },
      "outputs": [
        {
          "data": {
            "text/html": [
              "<div>\n",
              "<style scoped>\n",
              "    .dataframe tbody tr th:only-of-type {\n",
              "        vertical-align: middle;\n",
              "    }\n",
              "\n",
              "    .dataframe tbody tr th {\n",
              "        vertical-align: top;\n",
              "    }\n",
              "\n",
              "    .dataframe thead th {\n",
              "        text-align: right;\n",
              "    }\n",
              "</style>\n",
              "<table border=\"1\" class=\"dataframe\">\n",
              "  <thead>\n",
              "    <tr style=\"text-align: right;\">\n",
              "      <th></th>\n",
              "      <th>UserName</th>\n",
              "      <th>ScreenName</th>\n",
              "      <th>Location</th>\n",
              "      <th>TweetAt</th>\n",
              "      <th>OriginalTweet</th>\n",
              "      <th>Sentiment</th>\n",
              "    </tr>\n",
              "  </thead>\n",
              "  <tbody>\n",
              "    <tr>\n",
              "      <th>0</th>\n",
              "      <td>3800</td>\n",
              "      <td>48752</td>\n",
              "      <td>UK</td>\n",
              "      <td>16-03-2020</td>\n",
              "      <td>advice Talk to your neighbours family to excha...</td>\n",
              "      <td>Positive</td>\n",
              "    </tr>\n",
              "    <tr>\n",
              "      <th>1</th>\n",
              "      <td>3801</td>\n",
              "      <td>48753</td>\n",
              "      <td>Vagabonds</td>\n",
              "      <td>16-03-2020</td>\n",
              "      <td>Coronavirus Australia: Woolworths to give elde...</td>\n",
              "      <td>Positive</td>\n",
              "    </tr>\n",
              "    <tr>\n",
              "      <th>2</th>\n",
              "      <td>3802</td>\n",
              "      <td>48754</td>\n",
              "      <td>NaN</td>\n",
              "      <td>16-03-2020</td>\n",
              "      <td>My food stock is not the only one which is emp...</td>\n",
              "      <td>Positive</td>\n",
              "    </tr>\n",
              "    <tr>\n",
              "      <th>3</th>\n",
              "      <td>3803</td>\n",
              "      <td>48755</td>\n",
              "      <td>NaN</td>\n",
              "      <td>16-03-2020</td>\n",
              "      <td>Me, ready to go at supermarket during the #COV...</td>\n",
              "      <td>Extremely Negative</td>\n",
              "    </tr>\n",
              "    <tr>\n",
              "      <th>4</th>\n",
              "      <td>3804</td>\n",
              "      <td>48756</td>\n",
              "      <td>ÃÂT: 36.319708,-82.363649</td>\n",
              "      <td>16-03-2020</td>\n",
              "      <td>As news of the regionÃÂs first confirmed COV...</td>\n",
              "      <td>Positive</td>\n",
              "    </tr>\n",
              "    <tr>\n",
              "      <th>5</th>\n",
              "      <td>3805</td>\n",
              "      <td>48757</td>\n",
              "      <td>35.926541,-78.753267</td>\n",
              "      <td>16-03-2020</td>\n",
              "      <td>Cashier at grocery store was sharing his insig...</td>\n",
              "      <td>Positive</td>\n",
              "    </tr>\n",
              "    <tr>\n",
              "      <th>6</th>\n",
              "      <td>3807</td>\n",
              "      <td>48759</td>\n",
              "      <td>Atlanta, GA USA</td>\n",
              "      <td>16-03-2020</td>\n",
              "      <td>Due to COVID-19 our retail store and classroom...</td>\n",
              "      <td>Positive</td>\n",
              "    </tr>\n",
              "    <tr>\n",
              "      <th>7</th>\n",
              "      <td>3808</td>\n",
              "      <td>48760</td>\n",
              "      <td>BHAVNAGAR,GUJRAT</td>\n",
              "      <td>16-03-2020</td>\n",
              "      <td>For corona prevention,we should stop to buy th...</td>\n",
              "      <td>Negative</td>\n",
              "    </tr>\n",
              "    <tr>\n",
              "      <th>8</th>\n",
              "      <td>3810</td>\n",
              "      <td>48762</td>\n",
              "      <td>Pitt Meadows, BC, Canada</td>\n",
              "      <td>16-03-2020</td>\n",
              "      <td>Due to the Covid-19 situation, we have increas...</td>\n",
              "      <td>Extremely Positive</td>\n",
              "    </tr>\n",
              "    <tr>\n",
              "      <th>9</th>\n",
              "      <td>3811</td>\n",
              "      <td>48763</td>\n",
              "      <td>Horningsea</td>\n",
              "      <td>16-03-2020</td>\n",
              "      <td>#horningsea is a caring community. LetÃÂs AL...</td>\n",
              "      <td>Extremely Positive</td>\n",
              "    </tr>\n",
              "  </tbody>\n",
              "</table>\n",
              "</div>"
            ],
            "text/plain": [
              "   UserName  ScreenName                     Location     TweetAt  \\\n",
              "0      3800       48752                           UK  16-03-2020   \n",
              "1      3801       48753                    Vagabonds  16-03-2020   \n",
              "2      3802       48754                          NaN  16-03-2020   \n",
              "3      3803       48755                          NaN  16-03-2020   \n",
              "4      3804       48756  ÃÂT: 36.319708,-82.363649  16-03-2020   \n",
              "5      3805       48757         35.926541,-78.753267  16-03-2020   \n",
              "6      3807       48759              Atlanta, GA USA  16-03-2020   \n",
              "7      3808       48760             BHAVNAGAR,GUJRAT  16-03-2020   \n",
              "8      3810       48762    Pitt Meadows, BC, Canada   16-03-2020   \n",
              "9      3811       48763                   Horningsea  16-03-2020   \n",
              "\n",
              "                                       OriginalTweet           Sentiment  \n",
              "0  advice Talk to your neighbours family to excha...            Positive  \n",
              "1  Coronavirus Australia: Woolworths to give elde...            Positive  \n",
              "2  My food stock is not the only one which is emp...            Positive  \n",
              "3  Me, ready to go at supermarket during the #COV...  Extremely Negative  \n",
              "4  As news of the regionÃÂs first confirmed COV...            Positive  \n",
              "5  Cashier at grocery store was sharing his insig...            Positive  \n",
              "6  Due to COVID-19 our retail store and classroom...            Positive  \n",
              "7  For corona prevention,we should stop to buy th...            Negative  \n",
              "8  Due to the Covid-19 situation, we have increas...  Extremely Positive  \n",
              "9  #horningsea is a caring community. LetÃÂs AL...  Extremely Positive  "
            ]
          },
          "execution_count": 3,
          "metadata": {},
          "output_type": "execute_result"
        }
      ],
      "source": [
        "df = pd.read_csv('tweets_coronavirus.csv', encoding='latin-1')\n",
        "df.head(10)"
      ]
    },
    {
      "cell_type": "markdown",
      "metadata": {
        "id": "m2OiDog9ZBlS"
      },
      "source": [
        "Для каждого твитта указано:\n",
        "\n",
        "\n",
        "*   UserName - имя пользователя, заменено на целое число для анонимности\n",
        "*   ScreenName - отображающееся имя пользователя, заменено на целое число для анонимности\n",
        "*   Location - местоположение\n",
        "*   TweetAt - дата создания твитта\n",
        "*   OriginalTweet - текст твитта\n",
        "*   Sentiment - эмоциональная окраска твитта (целевая переменная)\n",
        "\n"
      ]
    },
    {
      "cell_type": "markdown",
      "metadata": {
        "id": "pZTMseDkhTC7"
      },
      "source": [
        "## Задание 1 Подготовка (0.5 балла)"
      ]
    },
    {
      "cell_type": "markdown",
      "metadata": {
        "id": "Xx2-odn9hdAW"
      },
      "source": [
        "Целевая переменная находится в колонке `Sentiment`.  Преобразуйте ее таким образом, чтобы она стала бинарной: 1 - если у твитта положительная эмоциональная окраска и 0 - если отрицательная."
      ]
    },
    {
      "cell_type": "code",
      "execution_count": 4,
      "metadata": {
        "id": "ZaQKQ1zEjP15"
      },
      "outputs": [
        {
          "data": {
            "text/html": [
              "<div>\n",
              "<style scoped>\n",
              "    .dataframe tbody tr th:only-of-type {\n",
              "        vertical-align: middle;\n",
              "    }\n",
              "\n",
              "    .dataframe tbody tr th {\n",
              "        vertical-align: top;\n",
              "    }\n",
              "\n",
              "    .dataframe thead th {\n",
              "        text-align: right;\n",
              "    }\n",
              "</style>\n",
              "<table border=\"1\" class=\"dataframe\">\n",
              "  <thead>\n",
              "    <tr style=\"text-align: right;\">\n",
              "      <th></th>\n",
              "      <th>UserName</th>\n",
              "      <th>ScreenName</th>\n",
              "      <th>Location</th>\n",
              "      <th>TweetAt</th>\n",
              "      <th>OriginalTweet</th>\n",
              "      <th>Sentiment</th>\n",
              "    </tr>\n",
              "  </thead>\n",
              "  <tbody>\n",
              "    <tr>\n",
              "      <th>0</th>\n",
              "      <td>3800</td>\n",
              "      <td>48752</td>\n",
              "      <td>UK</td>\n",
              "      <td>16-03-2020</td>\n",
              "      <td>advice Talk to your neighbours family to excha...</td>\n",
              "      <td>1</td>\n",
              "    </tr>\n",
              "    <tr>\n",
              "      <th>1</th>\n",
              "      <td>3801</td>\n",
              "      <td>48753</td>\n",
              "      <td>Vagabonds</td>\n",
              "      <td>16-03-2020</td>\n",
              "      <td>Coronavirus Australia: Woolworths to give elde...</td>\n",
              "      <td>1</td>\n",
              "    </tr>\n",
              "    <tr>\n",
              "      <th>2</th>\n",
              "      <td>3802</td>\n",
              "      <td>48754</td>\n",
              "      <td>NaN</td>\n",
              "      <td>16-03-2020</td>\n",
              "      <td>My food stock is not the only one which is emp...</td>\n",
              "      <td>1</td>\n",
              "    </tr>\n",
              "    <tr>\n",
              "      <th>3</th>\n",
              "      <td>3803</td>\n",
              "      <td>48755</td>\n",
              "      <td>NaN</td>\n",
              "      <td>16-03-2020</td>\n",
              "      <td>Me, ready to go at supermarket during the #COV...</td>\n",
              "      <td>0</td>\n",
              "    </tr>\n",
              "    <tr>\n",
              "      <th>4</th>\n",
              "      <td>3804</td>\n",
              "      <td>48756</td>\n",
              "      <td>ÃÂT: 36.319708,-82.363649</td>\n",
              "      <td>16-03-2020</td>\n",
              "      <td>As news of the regionÃÂs first confirmed COV...</td>\n",
              "      <td>1</td>\n",
              "    </tr>\n",
              "    <tr>\n",
              "      <th>5</th>\n",
              "      <td>3805</td>\n",
              "      <td>48757</td>\n",
              "      <td>35.926541,-78.753267</td>\n",
              "      <td>16-03-2020</td>\n",
              "      <td>Cashier at grocery store was sharing his insig...</td>\n",
              "      <td>1</td>\n",
              "    </tr>\n",
              "    <tr>\n",
              "      <th>6</th>\n",
              "      <td>3807</td>\n",
              "      <td>48759</td>\n",
              "      <td>Atlanta, GA USA</td>\n",
              "      <td>16-03-2020</td>\n",
              "      <td>Due to COVID-19 our retail store and classroom...</td>\n",
              "      <td>1</td>\n",
              "    </tr>\n",
              "    <tr>\n",
              "      <th>7</th>\n",
              "      <td>3808</td>\n",
              "      <td>48760</td>\n",
              "      <td>BHAVNAGAR,GUJRAT</td>\n",
              "      <td>16-03-2020</td>\n",
              "      <td>For corona prevention,we should stop to buy th...</td>\n",
              "      <td>0</td>\n",
              "    </tr>\n",
              "    <tr>\n",
              "      <th>8</th>\n",
              "      <td>3810</td>\n",
              "      <td>48762</td>\n",
              "      <td>Pitt Meadows, BC, Canada</td>\n",
              "      <td>16-03-2020</td>\n",
              "      <td>Due to the Covid-19 situation, we have increas...</td>\n",
              "      <td>1</td>\n",
              "    </tr>\n",
              "    <tr>\n",
              "      <th>9</th>\n",
              "      <td>3811</td>\n",
              "      <td>48763</td>\n",
              "      <td>Horningsea</td>\n",
              "      <td>16-03-2020</td>\n",
              "      <td>#horningsea is a caring community. LetÃÂs AL...</td>\n",
              "      <td>1</td>\n",
              "    </tr>\n",
              "  </tbody>\n",
              "</table>\n",
              "</div>"
            ],
            "text/plain": [
              "   UserName  ScreenName                     Location     TweetAt  \\\n",
              "0      3800       48752                           UK  16-03-2020   \n",
              "1      3801       48753                    Vagabonds  16-03-2020   \n",
              "2      3802       48754                          NaN  16-03-2020   \n",
              "3      3803       48755                          NaN  16-03-2020   \n",
              "4      3804       48756  ÃÂT: 36.319708,-82.363649  16-03-2020   \n",
              "5      3805       48757         35.926541,-78.753267  16-03-2020   \n",
              "6      3807       48759              Atlanta, GA USA  16-03-2020   \n",
              "7      3808       48760             BHAVNAGAR,GUJRAT  16-03-2020   \n",
              "8      3810       48762    Pitt Meadows, BC, Canada   16-03-2020   \n",
              "9      3811       48763                   Horningsea  16-03-2020   \n",
              "\n",
              "                                       OriginalTweet  Sentiment  \n",
              "0  advice Talk to your neighbours family to excha...          1  \n",
              "1  Coronavirus Australia: Woolworths to give elde...          1  \n",
              "2  My food stock is not the only one which is emp...          1  \n",
              "3  Me, ready to go at supermarket during the #COV...          0  \n",
              "4  As news of the regionÃÂs first confirmed COV...          1  \n",
              "5  Cashier at grocery store was sharing his insig...          1  \n",
              "6  Due to COVID-19 our retail store and classroom...          1  \n",
              "7  For corona prevention,we should stop to buy th...          0  \n",
              "8  Due to the Covid-19 situation, we have increas...          1  \n",
              "9  #horningsea is a caring community. LetÃÂs AL...          1  "
            ]
          },
          "execution_count": 4,
          "metadata": {},
          "output_type": "execute_result"
        }
      ],
      "source": [
        "def corrected_sentiment (sentiment: str):\n",
        "    if 'Positive' in sentiment: return 1\n",
        "    else: return 0\n",
        "\n",
        "df['Sentiment'] = df['Sentiment'].map(corrected_sentiment, na_action = 'ignore')\n",
        "df.head(10)"
      ]
    },
    {
      "cell_type": "markdown",
      "metadata": {
        "id": "pGq1FxJ-kBo5"
      },
      "source": [
        "Сбалансированы ли классы?"
      ]
    },
    {
      "cell_type": "code",
      "execution_count": 5,
      "metadata": {
        "id": "a7gdNtxckK5V"
      },
      "outputs": [
        {
          "data": {
            "text/plain": [
              "Sentiment\n",
              "1    0.539589\n",
              "0    0.460411\n",
              "Name: count, dtype: float64"
            ]
          },
          "execution_count": 5,
          "metadata": {},
          "output_type": "execute_result"
        }
      ],
      "source": [
        "balance = df['Sentiment'].value_counts()\n",
        "balance_2 = balance/balance.sum()\n",
        "balance_2"
      ]
    },
    {
      "cell_type": "markdown",
      "metadata": {
        "id": "Ng8BCelMkWb0"
      },
      "source": [
        "**Ответ:** Доли отличаются менее чем на 10%, можно говорить что классы сбалансированы"
      ]
    },
    {
      "cell_type": "markdown",
      "metadata": {
        "id": "qmSIBSsLk5Zz"
      },
      "source": [
        "Выведете на экран информацию о пропусках в данных. Если пропуски присутствуют заполните их строкой 'Unknown'."
      ]
    },
    {
      "cell_type": "code",
      "execution_count": 6,
      "metadata": {
        "id": "UhUVRkR5kxa7"
      },
      "outputs": [
        {
          "data": {
            "text/plain": [
              "UserName            0\n",
              "ScreenName          0\n",
              "Location         7049\n",
              "TweetAt             0\n",
              "OriginalTweet       0\n",
              "Sentiment           0\n",
              "dtype: int64"
            ]
          },
          "execution_count": 6,
          "metadata": {},
          "output_type": "execute_result"
        }
      ],
      "source": [
        "df.isnull().sum()"
      ]
    },
    {
      "cell_type": "code",
      "execution_count": 7,
      "metadata": {},
      "outputs": [],
      "source": [
        "df.fillna('Unknown', inplace=True)"
      ]
    },
    {
      "cell_type": "code",
      "execution_count": 8,
      "metadata": {},
      "outputs": [
        {
          "data": {
            "text/plain": [
              "UserName         0\n",
              "ScreenName       0\n",
              "Location         0\n",
              "TweetAt          0\n",
              "OriginalTweet    0\n",
              "Sentiment        0\n",
              "dtype: int64"
            ]
          },
          "execution_count": 8,
          "metadata": {},
          "output_type": "execute_result"
        }
      ],
      "source": [
        "df.isnull().sum()"
      ]
    },
    {
      "cell_type": "markdown",
      "metadata": {
        "id": "1tzt27tfjUpq"
      },
      "source": [
        "Разделите данные на обучающие и тестовые в соотношении 7 : 3 и `random_state=0`"
      ]
    },
    {
      "cell_type": "code",
      "execution_count": 9,
      "metadata": {
        "id": "xSLOA9tIj9Z6"
      },
      "outputs": [],
      "source": [
        "from sklearn.model_selection import train_test_split\n",
        "train, test = train_test_split(df, test_size = 0.3, random_state=0)"
      ]
    },
    {
      "cell_type": "markdown",
      "metadata": {
        "id": "J9RrPUsJlL60"
      },
      "source": [
        "## Задание 2 Токенизация (3 балла)"
      ]
    },
    {
      "cell_type": "markdown",
      "metadata": {
        "id": "2Dz_b7Xopc_R"
      },
      "source": [
        "Постройте словарь на основе обучающей выборки и посчитайте количество встреч каждого токена с использованием самой простой токенизации - деления текстов по пробельным символам и приведение токенов в нижний регистр"
      ]
    },
    {
      "cell_type": "code",
      "execution_count": 10,
      "metadata": {
        "id": "SFr67WOJphny"
      },
      "outputs": [
        {
          "data": {
            "text/plain": [
              "{'why': 624,\n",
              " 'we': 3655,\n",
              " 'still': 758,\n",
              " 'want': 485,\n",
              " 'to': 23338,\n",
              " 'buy': 733,\n",
              " 'so': 1800,\n",
              " 'much': 482,\n",
              " 'stuff': 105,\n",
              " 'during': 1900,\n",
              " 'quarantine': 150,\n",
              " 'https://t.co/1m881cwfuv': 1,\n",
              " '#shopping': 113,\n",
              " '#covid_19': 1383,\n",
              " '#online': 40,\n",
              " 'with': 4039,\n",
              " 'driving': 76,\n",
              " 'even': 667,\n",
              " 'more': 1967,\n",
              " 'usage': 22,\n",
              " 'a': 11668,\n",
              " 'strong': 91,\n",
              " 'strategy': 32,\n",
              " 'is': 7361,\n",
              " 'critical': 155,\n",
              " 'now': 1308,\n",
              " 'then': 425,\n",
              " 'ever': 177,\n",
              " 'luckily': 8,\n",
              " 'and': 14595,\n",
              " 'april': 158,\n",
              " '16': 35,\n",
              " 'webinar': 65,\n",
              " 'will': 2710,\n",
              " 'dive': 10,\n",
              " 'into': 666,\n",
              " 'growing': 83,\n",
              " 'app': 51,\n",
              " 'awareness': 32,\n",
              " 'targeting': 9,\n",
              " 'high': 406,\n",
              " 'lifetime': 4,\n",
              " 'value': 79,\n",
              " 'users': 18,\n",
              " '@canon_india': 15,\n",
              " 'i': 5156,\n",
              " 'am': 418,\n",
              " 'very': 415,\n",
              " 'happy..': 1,\n",
              " 'great': 406,\n",
              " 'job': 240,\n",
              " 'by': 2217,\n",
              " '#canonforcommunity\\r\\r\\nhttps://t.co/z0intks34x': 1,\n",
              " 'the': 26597,\n",
              " 'u.s': 8,\n",
              " 'national': 123,\n",
              " 'debt': 67,\n",
              " 'likely': 170,\n",
              " 'exceed': 14,\n",
              " '$30': 7,\n",
              " 'trillion': 21,\n",
              " 'after': 875,\n",
              " 'unprecedented': 89,\n",
              " 'borrowing': 5,\n",
              " 'trump': 209,\n",
              " 'administration': 38,\n",
              " 'mnuchinã\\x82â\\x92s': 1,\n",
              " 'treasury': 3,\n",
              " '#coronavirus': 7132,\n",
              " 'crisis.': 139,\n",
              " 'federal': 94,\n",
              " 'reserve': 17,\n",
              " 'could': 635,\n",
              " 'be': 3536,\n",
              " 'doing': 506,\n",
              " 'cushion': 9,\n",
              " 'blow.': 4,\n",
              " 'consumer': 2230,\n",
              " 'led': 67,\n",
              " 'economy': 238,\n",
              " 'on': 5440,\n",
              " 'brink.': 1,\n",
              " 'finally': 89,\n",
              " 'got': 404,\n",
              " 'grocery': 3424,\n",
              " 'store.': 317,\n",
              " 'honestly,': 7,\n",
              " 'what': 1480,\n",
              " 'are': 7026,\n",
              " 'you': 5403,\n",
              " 'people': 3124,\n",
              " 'all': 2774,\n",
              " 'toilet': 821,\n",
              " 'paper?': 18,\n",
              " 'https://t.co/jmobv8z0u0': 1,\n",
              " 'friends:': 2,\n",
              " 'catholic': 7,\n",
              " \"university's\": 1,\n",
              " 'food': 3780,\n",
              " 'service': 304,\n",
              " 'workers': 1198,\n",
              " 'have': 3758,\n",
              " 'been': 1080,\n",
              " 'laid': 50,\n",
              " 'off': 469,\n",
              " 'without': 299,\n",
              " 'pay.': 13,\n",
              " '(by': 4,\n",
              " 'contrast,': 2,\n",
              " 'georgetown': 2,\n",
              " 'has': 2299,\n",
              " 'set': 145,\n",
              " 'an': 1408,\n",
              " 'example': 46,\n",
              " 'consistent': 7,\n",
              " 'social': 610,\n",
              " 'teaching.)': 1,\n",
              " 'please': 983,\n",
              " 'sign': 100,\n",
              " 'rt.': 4,\n",
              " '@catholicpres': 1,\n",
              " '': 7531,\n",
              " '@catholicuniv': 1,\n",
              " 'https://t.co/evqby035wf': 1,\n",
              " \"it's\": 534,\n",
              " 'times': 365,\n",
              " 'like': 1541,\n",
              " 'these': 903,\n",
              " 'understand': 150,\n",
              " 'of': 13006,\n",
              " 'bidet.': 2,\n",
              " '#europe': 13,\n",
              " '#bidet': 4,\n",
              " '#toiletpaper': 635,\n",
              " 'regulatory': 11,\n",
              " 'litigation': 3,\n",
              " 'risks': 38,\n",
              " 'financial': 229,\n",
              " 'services': 259,\n",
              " 'providers': 37,\n",
              " 'highlighted': 9,\n",
              " 'in': 11127,\n",
              " 'ballard': 2,\n",
              " 'spahr': 2,\n",
              " 'covid-19': 3086,\n",
              " 'crisis': 698,\n",
              " 'fallout': 20,\n",
              " 'https://t.co/riqrhxxeim': 1,\n",
              " 'via': 656,\n",
              " '@@ballardspahrll': 1,\n",
              " '#training': 2,\n",
              " '#aca': 1,\n",
              " \"don't\": 536,\n",
              " 'panic': 1477,\n",
              " 'buying.': 67,\n",
              " \"i've\": 152,\n",
              " 'struggled': 10,\n",
              " 'get': 1744,\n",
              " 'basics': 19,\n",
              " 'as': 3668,\n",
              " 'emptying': 29,\n",
              " 'shelves.': 70,\n",
              " 'sensible': 20,\n",
              " \"aren't\": 60,\n",
              " 'shortage,': 13,\n",
              " 'just': 1518,\n",
              " 'shop': 456,\n",
              " 'time': 1129,\n",
              " 'restock': 41,\n",
              " 'if': 2041,\n",
              " \"we're\": 162,\n",
              " 'sensible,': 2,\n",
              " 'life': 240,\n",
              " 'slightly': 9,\n",
              " 'easier...take': 1,\n",
              " 'care': 399,\n",
              " '#coronacrisis': 363,\n",
              " 'at': 4618,\n",
              " 'least': 222,\n",
              " 'essential': 491,\n",
              " 'allowed,': 2,\n",
              " 'can': 2186,\n",
              " 'go': 1234,\n",
              " 'store': 3133,\n",
              " 'bank.': 8,\n",
              " 'itã\\x82â\\x92s': 444,\n",
              " 'ridiculous': 56,\n",
              " 'that': 3727,\n",
              " 'actually': 149,\n",
              " 'act': 100,\n",
              " 'going': 1139,\n",
              " 'those': 784,\n",
              " 'types': 25,\n",
              " 'places': 81,\n",
              " 'ã\\x82â\\x93necessaryã\\x82â\\x94': 1,\n",
              " 'stopped': 50,\n",
              " 'police.': 3,\n",
              " '?': 927,\n",
              " '#covid19': 2120,\n",
              " '#quarantinelife': 105,\n",
              " 'queues': 53,\n",
              " 'outside': 149,\n",
              " 'supermarket': 3249,\n",
              " 'reserved': 10,\n",
              " 'for': 8519,\n",
              " 'elderly.': 8,\n",
              " 'britain,': 5,\n",
              " 'were': 565,\n",
              " 'better': 263,\n",
              " 'than': 890,\n",
              " 'this.': 84,\n",
              " '\\r\\r\\n#covid_19': 41,\n",
              " 'https://t.co/0fmsmlgepm': 1,\n",
              " 'lt.': 3,\n",
              " 'gov.': 18,\n",
              " 'husted:': 1,\n",
              " '\"come': 4,\n",
              " 'people.': 97,\n",
              " 'that.\"': 2,\n",
              " 'hearing': 43,\n",
              " 'fight': 330,\n",
              " 'over': 779,\n",
              " 'paper': 576,\n",
              " 'from': 3032,\n",
              " 'one': 1060,\n",
              " 'american': 92,\n",
              " 'irishman': 1,\n",
              " 'others': 287,\n",
              " 'out': 2019,\n",
              " 'there,': 13,\n",
              " '#happystpatricksday!\\r\\r\\n\\r\\r\\nat': 1,\n",
              " 'bought': 161,\n",
              " 'some': 1302,\n",
              " 'guiness': 1,\n",
              " 'corned': 2,\n",
              " 'beef': 32,\n",
              " 'cabbage': 2,\n",
              " 'other': 887,\n",
              " 'day': 514,\n",
              " 'since': 363,\n",
              " 'sadly': 18,\n",
              " 'cannot': 146,\n",
              " 'irish': 5,\n",
              " 'pub': 21,\n",
              " 'per': 245,\n",
              " 'tradition,': 2,\n",
              " 'thanks': 262,\n",
              " 'governor': 48,\n",
              " 'pritzker': 2,\n",
              " 'damn': 68,\n",
              " '@ufcw': 7,\n",
              " 'says': 366,\n",
              " '30': 77,\n",
              " 'died': 117,\n",
              " '#coronavirus.\\r\\r\\n\\r\\r\\nunion': 1,\n",
              " 'reps': 6,\n",
              " 'consumers': 302,\n",
              " 'help': 1272,\n",
              " 'protect': 336,\n",
              " 'workers/the': 1,\n",
              " 'public.\\r\\r\\n\\r\\r\\n-': 1,\n",
              " 'wear': 176,\n",
              " 'mask': 325,\n",
              " 'when': 1318,\n",
              " 'shopping\\r\\r\\n\\r\\r\\n-': 1,\n",
              " 'touch': 75,\n",
              " 'few': 317,\n",
              " 'products': 425,\n",
              " 'possible\\r\\r\\n\\r\\r\\n-': 1,\n",
              " 'throw': 26,\n",
              " 'used': 177,\n",
              " 'mask/gloves': 2,\n",
              " 'ã\\x82â\\x93major': 2,\n",
              " 'chains': 146,\n",
              " 'beginning': 83,\n",
              " 'report': 259,\n",
              " 'their': 1968,\n",
              " 'first': 470,\n",
              " 'coronavirus-related': 14,\n",
              " 'employee': 114,\n",
              " 'deaths,': 7,\n",
              " 'leading': 61,\n",
              " 'closures': 74,\n",
              " 'increasing': 119,\n",
              " 'anxiety': 84,\n",
              " 'among': 90,\n",
              " 'pandemic': 999,\n",
              " 'intensifies': 8,\n",
              " 'across': 318,\n",
              " 'countryã\\x82â\\x94': 1,\n",
              " 'https://t.co/18v0pyhwb7': 1,\n",
              " 'my': 2399,\n",
              " 'story': 121,\n",
              " 'another': 242,\n",
              " 'aspect': 3,\n",
              " 'covid-19:': 114,\n",
              " 'banks': 238,\n",
              " 'face': 399,\n",
              " 'virus': 476,\n",
              " 'dilemma:': 3,\n",
              " 'demand,': 67,\n",
              " 'fewer': 28,\n",
              " 'volunteers': 66,\n",
              " 'https://t.co/ls0g86i8pu': 1,\n",
              " 'https://t.co/ofvkejff23': 1,\n",
              " 'walking': 68,\n",
              " 'around': 391,\n",
              " 'store,': 196,\n",
              " 'wearing': 190,\n",
              " 'was': 1384,\n",
              " 'weird.': 4,\n",
              " '\\r\\r\\nseeing': 1,\n",
              " 'mask,': 41,\n",
              " 'shopping': 1606,\n",
              " 'normal.': 26,\n",
              " '\\r\\r\\nsanitizing': 1,\n",
              " 'everything': 277,\n",
              " 'before': 428,\n",
              " 'putting': 166,\n",
              " 'it': 3091,\n",
              " 'away.': 21,\n",
              " '\\r\\r\\nitã\\x82â\\x92s': 1,\n",
              " 'weird': 36,\n",
              " 'time.': 139,\n",
              " '#azliving': 2,\n",
              " 'https://t.co/xoodgd2ulx': 1,\n",
              " 'point': 116,\n",
              " 're': 328,\n",
              " 'stock': 1049,\n",
              " 'piling': 36,\n",
              " 'live': 234,\n",
              " 'lifestyles': 1,\n",
              " 'eat': 122,\n",
              " 'lot': 261,\n",
              " 'don': 251,\n",
              " 't': 646,\n",
              " 'carry': 56,\n",
              " 'but': 2093,\n",
              " '70': 28,\n",
              " 'mother': 44,\n",
              " 'inherited': 1,\n",
              " 'wartime': 3,\n",
              " 'mentality': 2,\n",
              " 'doesn': 37,\n",
              " 'everyone': 582,\n",
              " '14': 49,\n",
              " 'days': 318,\n",
              " 'worth': 104,\n",
              " 'larder': 1,\n",
              " '1': 326,\n",
              " '2': 572,\n",
              " 'bay': 23,\n",
              " 'view': 40,\n",
              " 'distillery': 29,\n",
              " 'bottling': 1,\n",
              " 'hand': 1371,\n",
              " 'sanitizer': 1027,\n",
              " 'area': 122,\n",
              " 'nonprofits': 7,\n",
              " 'https://t.co/ogxu5ojpxh': 1,\n",
              " 'https://t.co/8cs3skukmn': 1,\n",
              " '#inspiration&gt;&gt;': 1,\n",
              " '#regram\\r\\r\\n#showcasing&gt;&gt;': 1,\n",
              " '#artwork': 1,\n",
              " '@karencantuq:\\r\\r\\ntitle:': 1,\n",
              " '\"ready': 1,\n",
              " 'wipe': 58,\n",
              " 'coronavirus\"\\r\\r\\ncaption:': 1,\n",
              " '\"ps': 1,\n",
              " '-': 1195,\n",
              " 'donã\\x82â\\x92t': 403,\n",
              " 'people\"': 2,\n",
              " '#stayinsideyourhouse\\r\\r\\nfollow&gt;&gt;': 1,\n",
              " '@authorship.me': 1,\n",
              " 'instagram:\\r\\r\\nauthorzine&gt;&gt;': 1,\n",
              " 'https://t.co/qo7tzfr0ih': 1,\n",
              " 'https://t.co/yu6kokta74': 1,\n",
              " 'spent': 43,\n",
              " 'trying': 306,\n",
              " 'book': 54,\n",
              " 'delivery': 673,\n",
              " 'any': 620,\n",
              " 'supermarket.': 189,\n",
              " 'there': 1196,\n",
              " 'no': 1838,\n",
              " 'availability': 29,\n",
              " '.': 183,\n",
              " 'self': 207,\n",
              " 'isolate': 52,\n",
              " '12': 77,\n",
              " 'weeks': 308,\n",
              " 'due': 1049,\n",
              " 'being': 827,\n",
              " 'immune': 59,\n",
              " 'supressed.': 1,\n",
              " 'how': 1809,\n",
              " 'supposed': 56,\n",
              " 'food?': 19,\n",
              " 'wonder': 64,\n",
              " 'stockpiled.': 4,\n",
              " 'help!': 12,\n",
              " '#coronacrisisuk': 44,\n",
              " '#stockpilinguk': 17,\n",
              " '#food': 149,\n",
              " 'complete': 60,\n",
              " 'madness': 22,\n",
              " '@borisjohnson': 75,\n",
              " '@susannareid100': 5,\n",
              " '@hollywills': 1,\n",
              " '@piersmorgan': 48,\n",
              " '@eamonnholmes': 1,\n",
              " '@ruthieel': 1,\n",
              " '@gmb': 15,\n",
              " '@bbcnews': 16,\n",
              " '@dailymailuk': 7,\n",
              " '#londonlockdown': 9,\n",
              " '#uklockdown': 21,\n",
              " '#covid-19': 167,\n",
              " 'https://t.co/dexxnx7ox3': 1,\n",
              " '\"forcing': 1,\n",
              " '50': 83,\n",
              " 'governors': 14,\n",
              " 'compete': 12,\n",
              " 'lifesaving': 5,\n",
              " 'equipment': 86,\n",
              " 'ã\\x82â\\x97': 125,\n",
              " 'hospitals': 81,\n",
              " 'pay': 326,\n",
              " 'exorbitant': 34,\n",
              " 'prices': 3817,\n",
              " 'only': 835,\n",
              " 'makes': 113,\n",
              " 'matters': 10,\n",
              " 'worse.\"': 1,\n",
              " 'bill': 67,\n",
              " 'gates:': 2,\n",
              " 'hereã\\x82â\\x92s': 52,\n",
              " 'make': 802,\n",
              " 'up': 1979,\n",
              " 'lost': 142,\n",
              " 'https://t.co/yh3rytrevk': 1,\n",
              " '#mondaymotivation': 13,\n",
              " 'iã\\x82â\\x92m': 401,\n",
              " 'privileged': 7,\n",
              " 'enough': 336,\n",
              " 'drive': 149,\n",
              " 'places.': 8,\n",
              " 'canã\\x82â\\x92t': 242,\n",
              " 'stop': 714,\n",
              " 'thinking': 97,\n",
              " 'about': 1725,\n",
              " 'easy': 73,\n",
              " 'access': 194,\n",
              " 'transport': 61,\n",
              " 'or': 2221,\n",
              " 'who': 1654,\n",
              " 'less': 211,\n",
              " 'able': 249,\n",
              " 'travel': 133,\n",
              " 'multiple': 42,\n",
              " 'shops.': 23,\n",
              " 'start': 197,\n",
              " '#stoppanicbuying': 115,\n",
              " '2/2': 6,\n",
              " 'especially': 158,\n",
              " 'whilst': 53,\n",
              " 'tesco': 51,\n",
              " 'own': 234,\n",
              " 'stores': 635,\n",
              " 'such': 264,\n",
              " 'leyton': 1,\n",
              " 'leytonstone': 2,\n",
              " 'frontline,': 4,\n",
              " 'dealing': 66,\n",
              " 'covid-19,': 309,\n",
              " 'restricted': 20,\n",
              " 'getting': 413,\n",
              " 'vulnerable': 275,\n",
              " 'difficult': 140,\n",
              " 'circumstances.': 7,\n",
              " 'every': 500,\n",
              " 'little': 207,\n",
              " 'helps!': 3,\n",
              " 'indeed!': 4,\n",
              " 'longer': 103,\n",
              " 'having': 254,\n",
              " 'cocktail': 3,\n",
              " 'parties,': 2,\n",
              " 'us': 1239,\n",
              " 'prefer': 15,\n",
              " 'stay': 853,\n",
              " 'sober': 2,\n",
              " 'find': 416,\n",
              " 'club': 23,\n",
              " 'soda': 4,\n",
              " 'local': 819,\n",
              " '?\\r\\r\\n\\r\\r\\n#coronavirus': 15,\n",
              " 'fourth': 6,\n",
              " 'emergency': 263,\n",
              " 'scammers': 111,\n",
              " 'using': 270,\n",
              " 'messages': 27,\n",
              " 'scam': 70,\n",
              " 'https://t.co/nzsthpcxre': 1,\n",
              " '\\r\\r\\nno': 14,\n",
              " 'heaven': 3,\n",
              " 'hades': 1,\n",
              " 'judgement': 3,\n",
              " 'eternal': 2,\n",
              " 'hey': 88,\n",
              " 'wednesday': 41,\n",
              " '3': 356,\n",
              " 'helping': 212,\n",
              " 'free': 464,\n",
              " 'add': 65,\n",
              " 'link': 86,\n",
              " 'tell': 138,\n",
              " 'me': 908,\n",
              " 'which': 500,\n",
              " 'poll': 8,\n",
              " 'll': 75,\n",
              " 'feature': 9,\n",
              " 'blog': 62,\n",
              " '226k': 1,\n",
              " 'views': 11,\n",
              " 'tweet': 27,\n",
              " '54k': 1,\n",
              " 'followers': 12,\n",
              " 'mom': 48,\n",
              " 'found': 169,\n",
              " '#vintagetoiletpaper': 1,\n",
              " 'her': 371,\n",
              " 'basement.': 1,\n",
              " 'circa': 2,\n",
              " '1987.': 1,\n",
              " 'blue': 19,\n",
              " 'peach.': 1,\n",
              " 'told': 215,\n",
              " 'list': 171,\n",
              " '@ebay': 20,\n",
              " 'easy?': 1,\n",
              " '???': 120,\n",
              " '\\r\\r\\n#toiletpaper': 10,\n",
              " 'https://t.co/2tvpmsaxox': 1,\n",
              " '@realdonaldtrump': 139,\n",
              " 'hear': 105,\n",
              " 'out,': 49,\n",
              " 'instead': 146,\n",
              " 'bailing': 6,\n",
              " 'corporations': 19,\n",
              " 'bailed': 2,\n",
              " 'everyoneã\\x82â\\x92s': 14,\n",
              " 'under': 237,\n",
              " '200k?': 1,\n",
              " 'bet': 31,\n",
              " 'would': 721,\n",
              " 'billions': 15,\n",
              " 'aaannnddd': 1,\n",
              " 'rebuy': 1,\n",
              " 'more!': 13,\n",
              " 'plus!': 1,\n",
              " 'our': 2434,\n",
              " 'tax': 63,\n",
              " 'mon': 3,\n",
              " 'yourself': 146,\n",
              " 'washing': 93,\n",
              " 'your': 2772,\n",
              " 'hands': 296,\n",
              " 'often': 60,\n",
              " 'soap': 160,\n",
              " 'water': 188,\n",
              " 'use': 556,\n",
              " '#wolverhampton': 1,\n",
              " 'https://t.co/e7ifbsqaxx': 1,\n",
              " 'two': 328,\n",
              " 'stories': 39,\n",
              " 'should': 869,\n",
              " 'mutually': 1,\n",
              " 'exclusive.': 1,\n",
              " \"couldn't\": 36,\n",
              " 'alleviate': 10,\n",
              " 'vice': 4,\n",
              " 'versa?': 1,\n",
              " '\\r\\r\\nhttps://t.co/01oc3pig5b\\r\\r\\n\\r\\r\\nhttps://t.co/omjr2atzhp': 1,\n",
              " \"here's\": 86,\n",
              " 'idea,': 5,\n",
              " 'become': 138,\n",
              " 'historian.': 1,\n",
              " 'write': 20,\n",
              " 'daily': 192,\n",
              " 'weekly': 59,\n",
              " 'diary': 7,\n",
              " 'grand': 12,\n",
              " 'children': 70,\n",
              " 'experiences.': 3,\n",
              " 'sacrifices,': 2,\n",
              " 'anecdotes,': 1,\n",
              " 'funny': 36,\n",
              " 'sad': 51,\n",
              " 'stories,': 1,\n",
              " 'recipes,': 3,\n",
              " 'photos': 37,\n",
              " 'newspaper': 2,\n",
              " 'clippings.': 1,\n",
              " 'imagine': 73,\n",
              " 'musings': 1,\n",
              " '1.': 25,\n",
              " 'need': 1543,\n",
              " 'media': 152,\n",
              " '#coronavirus...': 4,\n",
              " 'not': 2695,\n",
              " 'because': 888,\n",
              " 'news': 299,\n",
              " 'pictures': 26,\n",
              " 'take': 692,\n",
              " 'advantage': 173,\n",
              " 'of.': 10,\n",
              " '#instafood': 1,\n",
              " 'making': 402,\n",
              " 'restaurant': 87,\n",
              " 'animal': 43,\n",
              " 'shelters': 9,\n",
              " 'left': 211,\n",
              " 'starving': 10,\n",
              " 'buying': 897,\n",
              " 'consider': 122,\n",
              " 'donating': 84,\n",
              " 'through': 427,\n",
              " 'facebook': 45,\n",
              " '@theprojecttv': 1,\n",
              " '@mrbenjaminlaw': 1,\n",
              " 'okay': 28,\n",
              " 'empty': 405,\n",
              " 'shelves': 703,\n",
              " 'goods': 236,\n",
              " '&amp;': 2304,\n",
              " 'send': 108,\n",
              " 'them': 795,\n",
              " 'china!': 2,\n",
              " \"\\r\\r\\nit's\": 5,\n",
              " 'deprive': 3,\n",
              " 'medical': 301,\n",
              " 'supplies': 381,\n",
              " 'faulty': 3,\n",
              " 'covid': 1763,\n",
              " 'americans': 156,\n",
              " 'alarmed': 3,\n",
              " 'shelves,': 55,\n",
              " 'while': 620,\n",
              " 'suppliers': 54,\n",
              " 'retailers': 206,\n",
              " 'say': 349,\n",
              " 'they': 2268,\n",
              " 'struggling': 146,\n",
              " 'surging': 38,\n",
              " 'insist': 7,\n",
              " 'supply': 654,\n",
              " 'chain': 273,\n",
              " 'remains': 39,\n",
              " '@nytimes': 24,\n",
              " '#supplychain': 49,\n",
              " '#coronavirus\\r\\r\\n\\r\\r\\nhttps://t.co/qro7avqbz5': 1,\n",
              " 'this': 4461,\n",
              " 'video': 147,\n",
              " 'seen': 258,\n",
              " 'many': 809,\n",
              " 'possible.\\r\\r\\n\\r\\r\\nnhs': 1,\n",
              " 'staff': 506,\n",
              " 'brave': 25,\n",
              " 'woman': 126,\n",
              " 'need,': 21,\n",
              " 'something': 202,\n",
              " 'needs': 276,\n",
              " 'done': 184,\n",
              " 'urgently.': 5,\n",
              " 'https://t.co/kh3kdyqd8t': 1,\n",
              " 'diageo': 1,\n",
              " 'hasnã\\x82â\\x92t': 13,\n",
              " 'clue.': 1,\n",
              " 'clear': 97,\n",
              " 'demonstraion': 1,\n",
              " 'remote': 31,\n",
              " 'consumer.#covid-19': 1,\n",
              " 'https://t.co/tfrsci5ysp': 1,\n",
              " 'picked': 18,\n",
              " 'hell': 54,\n",
              " 'back': 423,\n",
              " 'working': 591,\n",
              " 'rational,': 1,\n",
              " 'educated,': 2,\n",
              " 'respected': 11,\n",
              " 'members': 105,\n",
              " 'community': 242,\n",
              " 'non-perishable': 11,\n",
              " 'items': 435,\n",
              " 'bulk': 70,\n",
              " 'terrified': 12,\n",
              " 'facial': 5,\n",
              " 'expressions,': 1,\n",
              " 'eerie': 4,\n",
              " 'sense': 69,\n",
              " 'doomsday': 6,\n",
              " 'scenario': 11,\n",
              " \"isn't\": 88,\n",
              " 'far': 146,\n",
              " 'off.': 22,\n",
              " 'new': 874,\n",
              " 'study': 38,\n",
              " 'finds': 27,\n",
              " 'may': 521,\n",
              " 'surfaces': 36,\n",
              " 'previously': 22,\n",
              " 'thought.': 11,\n",
              " 'down': 603,\n",
              " 'cleanser,': 1,\n",
              " 'wash': 204,\n",
              " 'frequently': 18,\n",
              " 'sanitizer.': 92,\n",
              " 'safe!\\r\\r\\n#covid19': 1,\n",
              " '#coronavirusupdate\\r\\r\\n#flatteningthecurve\\r\\r\\nhttps://t.co/ghbayd7t0g': 1,\n",
              " 'claim': 41,\n",
              " 'support': 470,\n",
              " 'doctors,': 56,\n",
              " 'nurses,': 72,\n",
              " 'responders': 64,\n",
              " 'guard,': 1,\n",
              " 'staff,': 99,\n",
              " 'truck': 101,\n",
              " 'drivers,': 86,\n",
              " 'else': 188,\n",
              " 'continue': 261,\n",
              " 'ignore': 23,\n",
              " 'pleas': 4,\n",
              " 'home!': 20,\n",
              " '\\r\\r\\n#coronavirus': 153,\n",
              " '\\r\\r\\n#stayhome': 11,\n",
              " '\\r\\r\\n#flattenthecurve': 3,\n",
              " 'shops': 272,\n",
              " 'markets': 207,\n",
              " 'malls': 22,\n",
              " 'restaurants': 128,\n",
              " 'remain': 149,\n",
              " 'closed': 198,\n",
              " 'different': 123,\n",
              " 'cities': 33,\n",
              " 'pakistan': 16,\n",
              " 'country': 316,\n",
              " 'imposed': 21,\n",
              " 'ban': 40,\n",
              " 'movement': 42,\n",
              " 'spread': 511,\n",
              " 'following': 147,\n",
              " 'show': 134,\n",
              " 'roads': 15,\n",
              " 'karachi': 1,\n",
              " 'islamabad': 1,\n",
              " 'bannu': 1,\n",
              " 'online': 1624,\n",
              " '19': 2106,\n",
              " 'lockdown': 319,\n",
              " 'paddy': 1,\n",
              " 'drop': 232,\n",
              " 'closure': 29,\n",
              " 'inter': 3,\n",
              " 'state': 246,\n",
              " 'borders': 15,\n",
              " 'andhra': 1,\n",
              " 'pradesh': 1,\n",
              " '#trumppressconference': 4,\n",
              " 'never': 298,\n",
              " 'maga': 2,\n",
              " 'rally': 14,\n",
              " 'amp': 859,\n",
              " 'stand': 74,\n",
              " 'talking': 67,\n",
              " 'russia': 88,\n",
              " 'mbs': 9,\n",
              " 'oil': 888,\n",
              " 'gas': 357,\n",
              " 'cuts': 62,\n",
              " 'wtf': 29,\n",
              " 'notice': 45,\n",
              " 'press': 42,\n",
              " 'release': 23,\n",
              " 'induced': 13,\n",
              " '2020': 199,\n",
              " 'recession': 75,\n",
              " 'disrupt': 9,\n",
              " 'automotive': 6,\n",
              " 'electronics': 14,\n",
              " 'semiconductor': 2,\n",
              " 'infrastructure': 19,\n",
              " 'businesses': 338,\n",
              " 'lockdown:': 8,\n",
              " 'know': 638,\n",
              " 'options==&gt;': 1,\n",
              " 'https://t.co/qky8zps5oz': 1,\n",
              " '#21dayslockdown': 8,\n",
              " '#21daylockdown': 9,\n",
              " '#21dayslockdownindia': 1,\n",
              " '#coronavirusindia': 24,\n",
              " '#coronaviruslockdown': 54,\n",
              " 'idiots': 46,\n",
              " 'president': 101,\n",
              " 'also': 618,\n",
              " 'needed': 145,\n",
              " 'direct': 74,\n",
              " 'business': 444,\n",
              " 'situation,': 19,\n",
              " 'hike': 58,\n",
              " 'required': 49,\n",
              " 'safeguarding': 3,\n",
              " 'transmission': 26,\n",
              " 'packet': 8,\n",
              " 'facemasks': 7,\n",
              " '@': 109,\n",
              " '150k,': 1,\n",
              " 'chloroquine': 19,\n",
              " '100k': 5,\n",
              " 'right,': 9,\n",
              " 'see': 743,\n",
              " 'greedy': 58,\n",
              " '*duckers*': 1,\n",
              " 'stockpiled': 10,\n",
              " 'all!': 12,\n",
              " '#convid19uk': 19,\n",
              " '#stopstockpiling': 41,\n",
              " 'call': 263,\n",
              " 'bollocks': 6,\n",
              " 'one.': 28,\n",
              " 'fair': 53,\n",
              " 'amount': 97,\n",
              " 'ppl': 118,\n",
              " 'buyin': 1,\n",
              " 'immediately': 50,\n",
              " 'years': 143,\n",
              " 'brexit': 16,\n",
              " 'n': 88,\n",
              " 'general': 94,\n",
              " 'skintness.': 1,\n",
              " 'its': 671,\n",
              " 'fucking': 127,\n",
              " \"buyers.\\r\\r\\n\\r\\r\\n'accidental\": 1,\n",
              " \"hoarders'\": 2,\n",
              " 'causing': 76,\n",
              " 'shortages\\r\\r\\n\\r\\r\\nhttps://t.co/q2nslsf6ke\\r\\r\\n\\r\\r\\nsent': 1,\n",
              " '@updayuk': 5,\n",
              " \"today's\": 32,\n",
              " 'news:\\r\\r\\n?': 1,\n",
              " 'pressured': 3,\n",
              " 'close': 245,\n",
              " 'stores\\r\\r\\n?': 1,\n",
              " 'affects': 19,\n",
              " 'beauty': 22,\n",
              " 'industry\\r\\r\\n?': 1,\n",
              " 'retail': 606,\n",
              " 'age': 60,\n",
              " 'coronavirus\\r\\r\\n?': 1,\n",
              " 'j.c.': 1,\n",
              " 'penney': 1,\n",
              " 'brings': 22,\n",
              " 'interactive': 6,\n",
              " 'style': 14,\n",
              " 'fitting': 6,\n",
              " 'rooms\\r\\r\\n?': 1,\n",
              " 'closures\\r\\r\\n#coronapocalypse': 1,\n",
              " '#ecommerce': 67,\n",
              " '#retail': 159,\n",
              " '#dtc\\r\\r\\nhttps://t.co/rafj2l2ceq': 1,\n",
              " 'https://t.co/tgoar4fhl1': 1,\n",
              " 'love': 145,\n",
              " 'this!': 20,\n",
              " 'victoria': 5,\n",
              " 'helps': 50,\n",
              " 'production': 216,\n",
              " '1st': 60,\n",
              " 'wwii,': 7,\n",
              " 'demand': 1325,\n",
              " '|': 274,\n",
              " 'cbc': 17,\n",
              " 'https://t.co/75vb12pbap': 1,\n",
              " '@cityoftoronto': 1,\n",
              " '@johntory': 2,\n",
              " 'bank': 208,\n",
              " 'grateful': 62,\n",
              " 'donations': 83,\n",
              " 'sees': 44,\n",
              " 'spike': 45,\n",
              " '#covid2019': 769,\n",
              " \"doesn't\": 94,\n",
              " 'discriminate.': 1,\n",
              " 'society': 77,\n",
              " 'healthcare': 207,\n",
              " 'system': 126,\n",
              " 'does.': 2,\n",
              " 'minimum': 63,\n",
              " 'wage': 52,\n",
              " 'grocery-store/warehouse': 1,\n",
              " 'workers,': 279,\n",
              " 'migrant': 9,\n",
              " 'transported': 1,\n",
              " 'fields': 16,\n",
              " 'crowded': 51,\n",
              " 'trucks,': 2,\n",
              " 'living': 100,\n",
              " 'public': 380,\n",
              " 'housing': 65,\n",
              " 'w/mold': 1,\n",
              " 'causes': 48,\n",
              " 'asthma': 18,\n",
              " 'disproportionately': 6,\n",
              " 'risk': 392,\n",
              " 'waiting': 112,\n",
              " 'line': 290,\n",
              " 'order': 330,\n",
              " 'practice': 80,\n",
              " 'safe': 475,\n",
              " '#socialdistancing': 390,\n",
              " ',': 185,\n",
              " 'sure': 288,\n",
              " 'youre': 4,\n",
              " 'fit': 17,\n",
              " 'corpse': 3,\n",
              " 'between': 152,\n",
              " 'person': 204,\n",
              " 'front': 231,\n",
              " 'you.': 108,\n",
              " 'added': 39,\n",
              " 'accuracy,': 1,\n",
              " 'bring': 135,\n",
              " 'body': 26,\n",
              " 'went': 373,\n",
              " 'usual': 62,\n",
              " 'had': 658,\n",
              " 'door': 57,\n",
              " '(100': 1,\n",
              " 'store)': 14,\n",
              " 'right': 454,\n",
              " 'needed.': 18,\n",
              " '\\r\\r\\nif': 14,\n",
              " 'prevent': 152,\n",
              " 'it,': 87,\n",
              " 'venezuelan.\\r\\r\\n#coronavirus': 1,\n",
              " 'article:': 8,\n",
              " 'health': 538,\n",
              " 'share': 244,\n",
              " 'begin': 31,\n",
              " 'recovery': 51,\n",
              " 'https://t.co/auxib44pom': 1,\n",
              " 'yesterday': 112,\n",
              " 'took': 95,\n",
              " 'n95': 46,\n",
              " 'masks,': 86,\n",
              " 'gloves': 209,\n",
              " 'revera': 1,\n",
              " 'mckenzie': 1,\n",
              " 'towne': 2,\n",
              " 'retirement': 8,\n",
              " 'brenda': 1,\n",
              " 'strafford': 1,\n",
              " 'foundation.\\r\\r\\n\\r\\r\\n#covid19': 1,\n",
              " '#2019ncov': 4,\n",
              " '#sarscov2': 20,\n",
              " '#albertafireflood': 1,\n",
              " '#restoration': 1,\n",
              " '#cleaning': 6,\n",
              " '#sanatizing': 1,\n",
              " '#heretohelp': 2,\n",
              " '#supportlocal': 9,\n",
              " '#calgary': 3,\n",
              " '#yyc': 7,\n",
              " '#supportlocalbusiness': 5,\n",
              " 'loads': 28,\n",
              " 'emails': 37,\n",
              " 'companies': 391,\n",
              " 'last': 458,\n",
              " 'saying': 150,\n",
              " 'customers': 446,\n",
              " '#sky': 2,\n",
              " 'true': 71,\n",
              " 'colours': 4,\n",
              " 'increase': 348,\n",
              " '#noshame': 1,\n",
              " '#nosense': 1,\n",
              " '#cancelsky': 1,\n",
              " 'https://t.co/8mrz0kdmez': 1,\n",
              " 'marketers': 16,\n",
              " 'friends,': 10,\n",
              " 'good': 569,\n",
              " 'article': 111,\n",
              " '@mckinsey': 22,\n",
              " 'regarding': 90,\n",
              " 'customer': 128,\n",
              " 'sentiment': 69,\n",
              " 'ready': 106,\n",
              " 'change': 172,\n",
              " 'whole': 138,\n",
              " 'marketing': 73,\n",
              " 'strategy?': 4,\n",
              " '#marketingstrategy': 3,\n",
              " ...}"
            ]
          },
          "execution_count": 10,
          "metadata": {},
          "output_type": "execute_result"
        }
      ],
      "source": [
        "d = dict()\n",
        "for i in train['OriginalTweet']:\n",
        "    tokens = i.split(' ')\n",
        "    tokens = [token.lower() for token in tokens]\n",
        "    for j in tokens:\n",
        "        if j in d:  d[j] += 1\n",
        "        else:   d[j] = 1\n",
        "d"
      ]
    },
    {
      "cell_type": "markdown",
      "metadata": {
        "id": "Pe0h2Jqkpnao"
      },
      "source": [
        "Какой размер словаря получился?"
      ]
    },
    {
      "cell_type": "code",
      "execution_count": 11,
      "metadata": {
        "id": "umyENA7EpokD"
      },
      "outputs": [
        {
          "name": "stdout",
          "output_type": "stream",
          "text": [
            "Размер словаря: 84745 слов\n"
          ]
        }
      ],
      "source": [
        "print('Размер словаря:', len(d), 'слов')"
      ]
    },
    {
      "cell_type": "markdown",
      "metadata": {
        "id": "0d2G1Z-Qpqkd"
      },
      "source": [
        "Выведите 10 самых популярных токенов с количеством встреч каждого из них. Объясните, почему именно эти токены в топе"
      ]
    },
    {
      "cell_type": "code",
      "execution_count": 12,
      "metadata": {
        "id": "Impi32a_pssg"
      },
      "outputs": [
        {
          "data": {
            "text/plain": [
              "[('the', 26597),\n",
              " ('to', 23338),\n",
              " ('and', 14595),\n",
              " ('of', 13006),\n",
              " ('a', 11668),\n",
              " ('in', 11127),\n",
              " ('for', 8519),\n",
              " ('', 7531),\n",
              " ('is', 7361),\n",
              " ('#coronavirus', 7132)]"
            ]
          },
          "execution_count": 12,
          "metadata": {},
          "output_type": "execute_result"
        }
      ],
      "source": [
        "top_ten = sorted(d.items(), key = lambda x:x[1], reverse=True)[:10]\n",
        "top_ten"
      ]
    },
    {
      "cell_type": "markdown",
      "metadata": {
        "id": "ZtuJCD0ApuFd"
      },
      "source": [
        "**Ответ:** Почти все эти слова - предлоги и частицы, не несущие смысловой нагрузки, но встречающиейся в каждом предложении (просто из-за структуры языка). Так же в топе есть #coronavirus, потому что твиты посвящены этой теме и скорее всего ищутся именно по этому хэштэгу."
      ]
    },
    {
      "cell_type": "markdown",
      "metadata": {
        "id": "T7DTQDkWsVYp"
      },
      "source": [
        "Удалите стоп-слова из словаря и выведите новый топ-10 токенов (и количество встреч) по популярности.  Что можно сказать  о нем?"
      ]
    },
    {
      "cell_type": "code",
      "execution_count": 13,
      "metadata": {
        "id": "8csSAdgTsnFx"
      },
      "outputs": [
        {
          "data": {
            "text/plain": [
              "[('', 7531),\n",
              " ('#coronavirus', 7132),\n",
              " ('prices', 3817),\n",
              " ('food', 3780),\n",
              " ('grocery', 3424),\n",
              " ('supermarket', 3249),\n",
              " ('store', 3133),\n",
              " ('people', 3124),\n",
              " ('covid-19', 3086),\n",
              " ('&amp;', 2304)]"
            ]
          },
          "execution_count": 13,
          "metadata": {},
          "output_type": "execute_result"
        }
      ],
      "source": [
        "import nltk\n",
        "nltk.download(\"stopwords\", quiet=True)\n",
        "from nltk.corpus import stopwords\n",
        "\n",
        "new_dict = dict()\n",
        "for i,j in d.items():\n",
        "    if i not in stopwords.words(\"english\"): new_dict[i] = j\n",
        "    \n",
        "top_ten = sorted(new_dict.items(), key = lambda x:x[1], reverse=True)[:10]\n",
        "top_ten"
      ]
    },
    {
      "cell_type": "markdown",
      "metadata": {
        "id": "LZH0x2Lzs-Dh"
      },
      "source": [
        "**Ответ:** Ну первое, что хочется заметить - на первом месте пустой символ - скорее всего человек просто прожал 2 пробела. Но большая часть слов совпадаем с тематикой, также есть слово &amp, которое должно быть несколькими словами. Таким образом, данный вид токенизации не лочень подходит для твитов, но больша часть слов оделилась так, как нужно"
      ]
    },
    {
      "cell_type": "markdown",
      "metadata": {
        "id": "TKSGRyI-uor0"
      },
      "source": [
        "Также выведите 20 самых непопулярных слов (если самых непопулярных слов больше выведите любые 20 из них) Почему эти токены непопулярны, требуется ли как-то дополнительно работать с ними?"
      ]
    },
    {
      "cell_type": "code",
      "execution_count": 14,
      "metadata": {
        "id": "moArbwfvun9t"
      },
      "outputs": [
        {
          "data": {
            "text/plain": [
              "[('https://t.co/1m881cwfuv', 1),\n",
              " ('happy..', 1),\n",
              " ('#canonforcommunity\\r\\r\\nhttps://t.co/z0intks34x', 1),\n",
              " ('mnuchinã\\x82â\\x92s', 1),\n",
              " ('brink.', 1),\n",
              " ('https://t.co/jmobv8z0u0', 1),\n",
              " (\"university's\", 1),\n",
              " ('teaching.)', 1),\n",
              " ('@catholicpres', 1),\n",
              " ('@catholicuniv', 1),\n",
              " ('https://t.co/evqby035wf', 1),\n",
              " ('https://t.co/riqrhxxeim', 1),\n",
              " ('@@ballardspahrll', 1),\n",
              " ('#aca', 1),\n",
              " ('easier...take', 1),\n",
              " ('ã\\x82â\\x93necessaryã\\x82â\\x94', 1),\n",
              " ('https://t.co/0fmsmlgepm', 1),\n",
              " ('husted:', 1),\n",
              " ('irishman', 1),\n",
              " ('#happystpatricksday!\\r\\r\\n\\r\\r\\nat', 1)]"
            ]
          },
          "execution_count": 14,
          "metadata": {},
          "output_type": "execute_result"
        }
      ],
      "source": [
        "last_twenty = sorted(new_dict.items(), key = lambda x:x[1], reverse=False)[:20]\n",
        "last_twenty"
      ]
    },
    {
      "cell_type": "markdown",
      "metadata": {
        "id": "uRp3J1gQunlR"
      },
      "source": [
        "**Ответ:** Почти все слова тут сформированы опечатками и использованием сторонних символов. Это еще один недостаток сплита по пробелам\n",
        "\n"
      ]
    },
    {
      "cell_type": "markdown",
      "metadata": {
        "id": "wx9LQOSPzvjV"
      },
      "source": [
        "Теперь воспользуемся токенайзером получше - TweetTokenizer из библиотеки nltk. Примените его и посмотрите на топ-10 популярных слов. Чем он отличается от топа, который получался раньше? Почему?"
      ]
    },
    {
      "cell_type": "code",
      "execution_count": 15,
      "metadata": {
        "id": "2G1UkyVxzvFY"
      },
      "outputs": [
        {
          "data": {
            "text/plain": [
              "[('the', 26993),\n",
              " ('.', 24118),\n",
              " ('to', 23478),\n",
              " (',', 17571),\n",
              " ('and', 14825),\n",
              " ('of', 13044),\n",
              " ('a', 11891),\n",
              " ('in', 11348),\n",
              " ('?', 9524),\n",
              " ('#coronavirus', 8808)]"
            ]
          },
          "execution_count": 15,
          "metadata": {},
          "output_type": "execute_result"
        }
      ],
      "source": [
        "from nltk.tokenize import TweetTokenizer\n",
        "tw = TweetTokenizer()\n",
        "d_tweets = dict()\n",
        "for i in train['OriginalTweet']:\n",
        "    tokens = tw.tokenize(i)\n",
        "    tokens = [token.lower() for token in tokens]\n",
        "    for j in tokens:\n",
        "        if j in d_tweets:  d_tweets[j] += 1\n",
        "        else:   d_tweets[j] = 1\n",
        "top_ten = sorted(d_tweets.items(), key = lambda x:x[1], reverse=True)[:10]\n",
        "top_ten        \n"
      ]
    },
    {
      "cell_type": "markdown",
      "metadata": {
        "id": "50eVUnJN1Zxl"
      },
      "source": [
        "**Ответ:** В нем много пунктационных знаков"
      ]
    },
    {
      "cell_type": "markdown",
      "metadata": {
        "id": "1gqQgiMs11bs"
      },
      "source": [
        "Удалите из словаря стоп-слова и пунктуацию, посмотрите на новый топ-10 слов с количеством встреч, есть ли теперь в нем что-то не похожее на слова?"
      ]
    },
    {
      "cell_type": "code",
      "execution_count": 16,
      "metadata": {
        "id": "0yHWdFrp0Mup"
      },
      "outputs": [
        {
          "data": {
            "text/plain": [
              "[('#coronavirus', 8808),\n",
              " ('â', 7415),\n",
              " ('\\x82', 7311),\n",
              " ('19', 7167),\n",
              " ('covid', 6253),\n",
              " ('prices', 4601),\n",
              " ('\\x92', 4372),\n",
              " ('food', 4367),\n",
              " ('store', 3877),\n",
              " ('supermarket', 3805)]"
            ]
          },
          "execution_count": 16,
          "metadata": {},
          "output_type": "execute_result"
        }
      ],
      "source": [
        "from string import punctuation\n",
        "\n",
        "noise = stopwords.words(\"english\") + list(punctuation)\n",
        "d_tweets_new = dict()\n",
        "for i,j in d_tweets.items():\n",
        "    if i not in noise: d_tweets_new[i] = j\n",
        "    \n",
        "top_ten = sorted(d_tweets_new.items(), key = lambda x:x[1], reverse=True)[:10]\n",
        "top_ten"
      ]
    },
    {
      "cell_type": "markdown",
      "metadata": {
        "id": "8ZJqXELP_Yxy"
      },
      "source": [
        "**Ответ:** Да, слова начинающиеся со \\ и странная буква а"
      ]
    },
    {
      "cell_type": "markdown",
      "metadata": {
        "id": "rzXjMsSB_kXB"
      },
      "source": [
        "Удалите из словаря токены из одного символа, с позицией в таблице Unicode 128 и более (`ord(x) >= 128`)\n",
        "\n",
        "Выведите топ-10 самых популярных и топ-20 непопулярных слов. Чем полученные топы отличаются от итоговых топов, полученных при использовании токенизации по пробелам? Что теперь лучше, а что хуже?"
      ]
    },
    {
      "cell_type": "code",
      "execution_count": 17,
      "metadata": {
        "id": "1695hlkS_1-J"
      },
      "outputs": [
        {
          "data": {
            "text/plain": [
              "[('#coronavirus', 8808),\n",
              " ('19', 7167),\n",
              " ('covid', 6253),\n",
              " ('prices', 4601),\n",
              " ('food', 4367),\n",
              " ('store', 3877),\n",
              " ('supermarket', 3805),\n",
              " ('grocery', 3523),\n",
              " ('people', 3463),\n",
              " ('#covid19', 2589)]"
            ]
          },
          "execution_count": 17,
          "metadata": {},
          "output_type": "execute_result"
        }
      ],
      "source": [
        "filtered_dict = [(i, j) for i, j in d_tweets_new.items() if len(i) > 1 or ord(i) < 128]\n",
        "top_ten = sorted(filtered_dict, key = lambda x:x[1], reverse=True)[:10]\n",
        "top_ten"
      ]
    },
    {
      "cell_type": "markdown",
      "metadata": {
        "id": "KzjHAKIlDvc6"
      },
      "source": [
        "**Ответ:** Этот топ состоит из слов по тематике COVID-19 и в нем только \"нормальные слова\""
      ]
    },
    {
      "cell_type": "code",
      "execution_count": 18,
      "metadata": {},
      "outputs": [
        {
          "data": {
            "text/plain": [
              "[('https://t.co/1m881cwfuv', 1),\n",
              " ('https://t.co/z0intks34x', 1),\n",
              " ('mnuchinã', 1),\n",
              " ('https://t.co/jmobv8z0u0', 1),\n",
              " (\"university's\", 1),\n",
              " ('@catholicpres', 1),\n",
              " ('@catholicuniv', 1),\n",
              " ('https://t.co/evqby035wf', 1),\n",
              " ('https://t.co/riqrhxxeim', 1),\n",
              " ('@ballardspahrll', 1),\n",
              " ('#aca', 1),\n",
              " ('https://t.co/0fmsmlgepm', 1),\n",
              " ('irishman', 1),\n",
              " ('#happystpatricksday', 1),\n",
              " ('guiness', 1),\n",
              " ('https://t.co/18v0pyhwb7', 1),\n",
              " ('https://t.co/ls0g86i8pu', 1),\n",
              " ('https://t.co/ofvkejff23', 1),\n",
              " ('https://t.co/xoodgd2ulx', 1),\n",
              " ('lifestyles', 1)]"
            ]
          },
          "execution_count": 18,
          "metadata": {},
          "output_type": "execute_result"
        }
      ],
      "source": [
        "filtered_dict = [(i, j) for i, j in d_tweets_new.items() if len(i) > 1 or ord(i) < 128]\n",
        "tweets_dict = dict(filtered_dict)\n",
        "last_twenty = sorted(filtered_dict, key = lambda x:x[1], reverse=False)[:20]\n",
        "last_twenty"
      ]
    },
    {
      "cell_type": "markdown",
      "metadata": {},
      "source": [
        "В этом топе в основном ссылки и слова с опечатками/ошибками"
      ]
    },
    {
      "cell_type": "markdown",
      "metadata": {
        "id": "EcDf9_6HB2zm"
      },
      "source": [
        "Выведите топ-10 популярных хештегов с количеством встреч. Что можно сказать о них?"
      ]
    },
    {
      "cell_type": "code",
      "execution_count": 19,
      "metadata": {
        "id": "zk4fygCUBw3l"
      },
      "outputs": [
        {
          "data": {
            "text/plain": [
              "[('#coronavirus', 8808),\n",
              " ('#covid19', 2589),\n",
              " ('#covid_19', 1734),\n",
              " ('#covid2019', 946),\n",
              " ('#toiletpaper', 744),\n",
              " ('#covid', 641),\n",
              " ('#socialdistancing', 465),\n",
              " ('#coronacrisis', 448),\n",
              " ('#pandemic', 257),\n",
              " ('#coronaviruspandemic', 249)]"
            ]
          },
          "execution_count": 19,
          "metadata": {},
          "output_type": "execute_result"
        }
      ],
      "source": [
        "tegs = [(i, j) for i,j in tweets_dict.items() if '#' in i]\n",
        "top_ten_tegs = sorted(tegs, key = lambda x: x[1], reverse = True)[:10]\n",
        "top_ten_tegs"
      ]
    },
    {
      "cell_type": "markdown",
      "metadata": {
        "id": "-6NeNWBkDxM7"
      },
      "source": [
        "**Ответ:** Все хэштэги связаны с covid-19, есть предположение, что по ним и отбирались твиты в датасет"
      ]
    },
    {
      "cell_type": "markdown",
      "metadata": {
        "id": "LLYBg7caD5GA"
      },
      "source": [
        "То же самое проделайте для ссылок на сайт https://t.co Сравнима ли популярность ссылок с популярностью хештегов? Будет ли информация о ссылке на конкретную страницу полезна?"
      ]
    },
    {
      "cell_type": "code",
      "execution_count": 20,
      "metadata": {
        "id": "MXbm1oeaCK9S"
      },
      "outputs": [
        {
          "data": {
            "text/plain": [
              "[('https://t.co/oxa7swtond', 5),\n",
              " ('https://t.co/gp3eusapl8', 4),\n",
              " ('https://t.co/deftrui1pfã\\x82â', 3),\n",
              " ('https://t.co/wrlhyzizaa', 3),\n",
              " ('https://t.co/kuwipf1kqw', 3),\n",
              " ('https://t.co/zjnrx6dkkn', 3),\n",
              " ('https://t.co/3gbbdpdjat', 3),\n",
              " ('https://t.co/e2znxajpre', 3),\n",
              " ('https://t.co/catkegayoy', 3),\n",
              " ('https://t.co/g63rp042ho', 3)]"
            ]
          },
          "execution_count": 20,
          "metadata": {},
          "output_type": "execute_result"
        }
      ],
      "source": [
        "links = [(i, j) for i,j in tweets_dict.items() if 'https://t.co' in i]\n",
        "top_ten_links = sorted(links, key = lambda x: x[1], reverse = True)[:10]\n",
        "top_ten_links"
      ]
    },
    {
      "cell_type": "markdown",
      "metadata": {
        "id": "at6lRYZ8A07N"
      },
      "source": [
        "**Ответ:** Нет, т.к. судя по данным, люди приврепляют ссылки на разные страницы"
      ]
    },
    {
      "cell_type": "markdown",
      "metadata": {
        "id": "IOGdUU1kBU1D"
      },
      "source": [
        "Используем опыт предыдущих экспериментов и напишем собственный токенайзер, улучшив TweetTokenizer. Функция tokenize должна:\n",
        "\n",
        "\n",
        "\n",
        "*   Привести текст в нижний регистр\n",
        "*   Применить TweetTokenizer для изначального выделения токенов\n",
        "*   Удалить стоп-слова, пунктуацию, токены из одного символа, с позицией в таблице Unicode 128 и более и ссылки на t.co\n",
        "\n"
      ]
    },
    {
      "cell_type": "code",
      "execution_count": 21,
      "metadata": {
        "id": "ctEsB6xkFrrK"
      },
      "outputs": [],
      "source": [
        "def custom_tokenizer(text):\n",
        "    text = text.encode().decode('unicode-escape') # Без этого выдавало ошибку компиляции\n",
        "    our = [i.lower() for i in text]\n",
        "    noise = set(stopwords.words(\"english\") + list(punctuation))\n",
        "    tw = TweetTokenizer()\n",
        "    tokens_start = tw.tokenize(''.join(our))\n",
        "    tokens = []\n",
        "    for i in tokens_start:\n",
        "        if i not in noise and 'https://t.co' not in i and len(i) > 1:\n",
        "            tokens.append(i)\n",
        "        if i not in noise and len(i) == 1 and ord(i) < 128:\n",
        "          tokens.append(i)\n",
        "    return tokens\n"
      ]
    },
    {
      "cell_type": "code",
      "execution_count": 22,
      "metadata": {
        "colab": {
          "base_uri": "https://localhost:8080/"
        },
        "id": "XwbgtYkJGYym",
        "outputId": "5808765b-3448-45e6-ccc1-7cd65f6371ef"
      },
      "outputs": [
        {
          "data": {
            "text/plain": [
              "['sample', 'text', '@sample_text', '#sampletext']"
            ]
          },
          "execution_count": 22,
          "metadata": {},
          "output_type": "execute_result"
        }
      ],
      "source": [
        "custom_tokenizer('This is sample text!!!! @Sample_text I, \\x92\\x92 https://t.co/sample  #sampletext')"
      ]
    },
    {
      "cell_type": "markdown",
      "metadata": {
        "id": "wURVABmXHk97"
      },
      "source": [
        "## Задание 3 Векторизация текстов (2 балла)"
      ]
    },
    {
      "cell_type": "markdown",
      "metadata": {
        "id": "H44iXkoHIQfN"
      },
      "source": [
        "Обучите CountVectorizer с использованием custom_tokenizer в качестве токенайзера. Как размер полученного словаря соотносится с размером изначального словаря из начала задания 2?"
      ]
    },
    {
      "cell_type": "code",
      "execution_count": 23,
      "metadata": {
        "colab": {
          "base_uri": "https://localhost:8080/"
        },
        "id": "gHn_limQl3BI",
        "outputId": "8e9c1826-319f-4376-f06e-c30c2eb82648"
      },
      "outputs": [
        {
          "name": "stderr",
          "output_type": "stream",
          "text": [
            "c:\\Python\\Lib\\site-packages\\sklearn\\feature_extraction\\text.py:525: UserWarning: The parameter 'token_pattern' will not be used since 'tokenizer' is not None'\n",
            "  warnings.warn(\n",
            "C:\\Users\\m.glazman\\AppData\\Local\\Temp\\ipykernel_19784\\2364570482.py:2: DeprecationWarning: invalid escape sequence '\\h'\n",
            "  text = text.encode().decode('unicode-escape') # Без этого выдавало ошибку компиляции\n"
          ]
        },
        {
          "data": {
            "text/plain": [
              "(23410, 45308)"
            ]
          },
          "execution_count": 23,
          "metadata": {},
          "output_type": "execute_result"
        }
      ],
      "source": [
        "from sklearn.feature_extraction.text import CountVectorizer\n",
        "\n",
        "cnt_vec = CountVectorizer(tokenizer = custom_tokenizer)\n",
        "X = cnt_vec.fit_transform(train['OriginalTweet'])\n",
        "X.shape"
      ]
    },
    {
      "cell_type": "markdown",
      "metadata": {
        "id": "gsfmaSGoItUm"
      },
      "source": [
        "**Ответ:** В нем стало меньше слов засчет использвания токенизации (слова - колонки X), т.к. мы удаляем слова, не несущие смысловой нагрузки и ссылки"
      ]
    },
    {
      "cell_type": "markdown",
      "metadata": {
        "id": "lm6UHNmqKZT0"
      },
      "source": [
        "Посмотрим на какой-нибудь конкретный твитт:"
      ]
    },
    {
      "cell_type": "code",
      "execution_count": 24,
      "metadata": {
        "id": "aJVjjfqOJh8m"
      },
      "outputs": [
        {
          "data": {
            "text/plain": [
              "('Nice one @SkyNews lets not panic but show ppl in france queueing for food!!! #CoronavirusOutbreak #COVID2019 brainless!! Ffs',\n",
              " 0)"
            ]
          },
          "execution_count": 24,
          "metadata": {},
          "output_type": "execute_result"
        }
      ],
      "source": [
        "ind = 9023\n",
        "train.iloc[ind]['OriginalTweet'], train.iloc[ind]['Sentiment']"
      ]
    },
    {
      "cell_type": "markdown",
      "metadata": {
        "id": "PBMIHBI5KdaS"
      },
      "source": [
        "Автор твитта не доволен ситуацией с едой во Франции и текст имеет резко негативную окраску.\n",
        "\n",
        "Примените обученный CountVectorizer для векторизации данного текста, и попытайтесь определить самый важный токен и самый неважный токен (токен, компонента которого в векторе максимальна/минимальна, без учета 0). Хорошо ли они определились, почему?"
      ]
    },
    {
      "cell_type": "code",
      "execution_count": 25,
      "metadata": {
        "id": "7NcAllaEKsJj"
      },
      "outputs": [
        {
          "data": {
            "text/plain": [
              "#coronavirusoutbreak    1\n",
              "#covid2019              1\n",
              "@skynews                1\n",
              "brainless               1\n",
              "ffs                     1\n",
              "food                    1\n",
              "france                  1\n",
              "lets                    1\n",
              "nice                    1\n",
              "one                     1\n",
              "panic                   1\n",
              "ppl                     1\n",
              "queueing                1\n",
              "show                    1\n",
              "dtype: int64"
            ]
          },
          "execution_count": 25,
          "metadata": {},
          "output_type": "execute_result"
        }
      ],
      "source": [
        "example = pd.DataFrame(X[ind].toarray(), columns = cnt_vec.get_feature_names_out())\n",
        "summa = example.sum(axis = 0)\n",
        "summa.loc[summa >= 1].sort_values()"
      ]
    },
    {
      "cell_type": "markdown",
      "metadata": {
        "id": "TpEsl1k_NF4T"
      },
      "source": [
        "**Ответ:** Сложно определить потому что частота каждого слова от 0 до 1 раза"
      ]
    },
    {
      "cell_type": "markdown",
      "metadata": {
        "id": "w4DsEQpLO3J6"
      },
      "source": [
        "Теперь примените TfidfVectorizer и  определите самый важный/неважный токены. Хорошо ли определились, почему?"
      ]
    },
    {
      "cell_type": "code",
      "execution_count": 26,
      "metadata": {
        "id": "uSNzdK3ENGB3"
      },
      "outputs": [
        {
          "name": "stderr",
          "output_type": "stream",
          "text": [
            "c:\\Python\\Lib\\site-packages\\sklearn\\feature_extraction\\text.py:525: UserWarning: The parameter 'token_pattern' will not be used since 'tokenizer' is not None'\n",
            "  warnings.warn(\n",
            "C:\\Users\\m.glazman\\AppData\\Local\\Temp\\ipykernel_19784\\2364570482.py:2: DeprecationWarning: invalid escape sequence '\\h'\n",
            "  text = text.encode().decode('unicode-escape') # Без этого выдавало ошибку компиляции\n"
          ]
        },
        {
          "data": {
            "text/plain": [
              "(23410, 45308)"
            ]
          },
          "execution_count": 26,
          "metadata": {},
          "output_type": "execute_result"
        }
      ],
      "source": [
        "from sklearn.feature_extraction.text import TfidfVectorizer\n",
        "tfidf_vec = TfidfVectorizer(tokenizer = custom_tokenizer)\n",
        "X = tfidf_vec.fit_transform(train['OriginalTweet'])\n",
        "X.shape"
      ]
    },
    {
      "cell_type": "code",
      "execution_count": 27,
      "metadata": {},
      "outputs": [
        {
          "data": {
            "text/plain": [
              "food                    0.113289\n",
              "panic                   0.147595\n",
              "one                     0.163067\n",
              "#covid2019              0.168252\n",
              "#coronavirusoutbreak    0.225843\n",
              "show                    0.244065\n",
              "nice                    0.254273\n",
              "ppl                     0.255006\n",
              "lets                    0.301211\n",
              "@skynews                0.310426\n",
              "france                  0.320473\n",
              "ffs                     0.324474\n",
              "queueing                0.354346\n",
              "brainless               0.386764\n",
              "dtype: float64"
            ]
          },
          "execution_count": 27,
          "metadata": {},
          "output_type": "execute_result"
        }
      ],
      "source": [
        "example = pd.DataFrame(X[ind].toarray(), columns = tfidf_vec.get_feature_names_out())\n",
        "sum_new = example.sum()\n",
        "sum_new.loc[sum_new != 0.0].sort_values()\n"
      ]
    },
    {
      "cell_type": "markdown",
      "metadata": {
        "id": "NYao_UhqQADm"
      },
      "source": [
        "**Ответ:** Такая сортировка более полезна, потому что в ней больший вес имеют более редкие/более важные слова лучше описывающие мнение автора. Однако например такие важные слова как \"panic\" наш векторайзер посчитал менее важными."
      ]
    },
    {
      "cell_type": "markdown",
      "metadata": {
        "id": "LGRJPqfWSesQ"
      },
      "source": [
        "Найдите какой-нибудь положительно окрашенный твитт, где TfidfVectorizer хорошо (полезно для определения окраски) выделяет важный токен, поясните пример.\n",
        "\n",
        "*Подсказка:* явно положительные твитты можно искать при помощи положительных слов (good, great, amazing и т. д.)"
      ]
    },
    {
      "cell_type": "code",
      "execution_count": 28,
      "metadata": {
        "colab": {
          "base_uri": "https://localhost:8080/",
          "height": 53
        },
        "id": "bRbQ2CHiSuJI",
        "outputId": "c4b34a7d-1076-4e1e-ad5c-9466fd2097c2"
      },
      "outputs": [
        {
          "data": {
            "text/html": [
              "<div>\n",
              "<style scoped>\n",
              "    .dataframe tbody tr th:only-of-type {\n",
              "        vertical-align: middle;\n",
              "    }\n",
              "\n",
              "    .dataframe tbody tr th {\n",
              "        vertical-align: top;\n",
              "    }\n",
              "\n",
              "    .dataframe thead th {\n",
              "        text-align: right;\n",
              "    }\n",
              "</style>\n",
              "<table border=\"1\" class=\"dataframe\">\n",
              "  <thead>\n",
              "    <tr style=\"text-align: right;\">\n",
              "      <th></th>\n",
              "      <th>UserName</th>\n",
              "      <th>ScreenName</th>\n",
              "      <th>Location</th>\n",
              "      <th>TweetAt</th>\n",
              "      <th>OriginalTweet</th>\n",
              "      <th>Sentiment</th>\n",
              "    </tr>\n",
              "  </thead>\n",
              "  <tbody>\n",
              "    <tr>\n",
              "      <th>4583</th>\n",
              "      <td>9362</td>\n",
              "      <td>54314</td>\n",
              "      <td>Moulton, England</td>\n",
              "      <td>19-03-2020</td>\n",
              "      <td>Hearing so many stories of NHS heroes Teachers...</td>\n",
              "      <td>1</td>\n",
              "    </tr>\n",
              "    <tr>\n",
              "      <th>8221</th>\n",
              "      <td>13787</td>\n",
              "      <td>58739</td>\n",
              "      <td>Unknown</td>\n",
              "      <td>20-03-2020</td>\n",
              "      <td>Let s just take a minute to say THANK YOU also...</td>\n",
              "      <td>1</td>\n",
              "    </tr>\n",
              "    <tr>\n",
              "      <th>3183</th>\n",
              "      <td>7654</td>\n",
              "      <td>52606</td>\n",
              "      <td>London, England</td>\n",
              "      <td>18-03-2020</td>\n",
              "      <td>Back at the \"Frontline\"\\r\\r\\nA massive shout o...</td>\n",
              "      <td>1</td>\n",
              "    </tr>\n",
              "    <tr>\n",
              "      <th>24347</th>\n",
              "      <td>33577</td>\n",
              "      <td>78529</td>\n",
              "      <td>Unknown</td>\n",
              "      <td>05-04-2020</td>\n",
              "      <td>Massive thanks to @waitrose for my delivery of...</td>\n",
              "      <td>1</td>\n",
              "    </tr>\n",
              "    <tr>\n",
              "      <th>3281</th>\n",
              "      <td>7772</td>\n",
              "      <td>52724</td>\n",
              "      <td>Nairobi, Kenya</td>\n",
              "      <td>18-03-2020</td>\n",
              "      <td>Crisp clean fresh air perfect ambience Covid 1...</td>\n",
              "      <td>1</td>\n",
              "    </tr>\n",
              "    <tr>\n",
              "      <th>...</th>\n",
              "      <td>...</td>\n",
              "      <td>...</td>\n",
              "      <td>...</td>\n",
              "      <td>...</td>\n",
              "      <td>...</td>\n",
              "      <td>...</td>\n",
              "    </tr>\n",
              "    <tr>\n",
              "      <th>8199</th>\n",
              "      <td>13757</td>\n",
              "      <td>58709</td>\n",
              "      <td>Wrightington</td>\n",
              "      <td>20-03-2020</td>\n",
              "      <td>The support from customers this week has been ...</td>\n",
              "      <td>1</td>\n",
              "    </tr>\n",
              "    <tr>\n",
              "      <th>11636</th>\n",
              "      <td>17911</td>\n",
              "      <td>62863</td>\n",
              "      <td>Australia</td>\n",
              "      <td>21-03-2020</td>\n",
              "      <td>Margot Robbie is an amazing actress, and love ...</td>\n",
              "      <td>1</td>\n",
              "    </tr>\n",
              "    <tr>\n",
              "      <th>23018</th>\n",
              "      <td>31918</td>\n",
              "      <td>76870</td>\n",
              "      <td>Karachi, Pakistan</td>\n",
              "      <td>04-04-2020</td>\n",
              "      <td>Face Mask (Pack of 5) ÃÂ Meeting the need of...</td>\n",
              "      <td>1</td>\n",
              "    </tr>\n",
              "    <tr>\n",
              "      <th>5208</th>\n",
              "      <td>10126</td>\n",
              "      <td>55078</td>\n",
              "      <td>Unknown</td>\n",
              "      <td>19-03-2020</td>\n",
              "      <td>There's some amazing work going on in the worl...</td>\n",
              "      <td>1</td>\n",
              "    </tr>\n",
              "    <tr>\n",
              "      <th>469</th>\n",
              "      <td>4365</td>\n",
              "      <td>49317</td>\n",
              "      <td>TaÃÂ¯wan</td>\n",
              "      <td>16-03-2020</td>\n",
              "      <td>#COVID19 19 A friend of mine in the US works a...</td>\n",
              "      <td>1</td>\n",
              "    </tr>\n",
              "  </tbody>\n",
              "</table>\n",
              "<p>68 rows × 6 columns</p>\n",
              "</div>"
            ],
            "text/plain": [
              "       UserName  ScreenName           Location     TweetAt  \\\n",
              "4583       9362       54314   Moulton, England  19-03-2020   \n",
              "8221      13787       58739            Unknown  20-03-2020   \n",
              "3183       7654       52606    London, England  18-03-2020   \n",
              "24347     33577       78529            Unknown  05-04-2020   \n",
              "3281       7772       52724     Nairobi, Kenya  18-03-2020   \n",
              "...         ...         ...                ...         ...   \n",
              "8199      13757       58709      Wrightington   20-03-2020   \n",
              "11636     17911       62863          Australia  21-03-2020   \n",
              "23018     31918       76870  Karachi, Pakistan  04-04-2020   \n",
              "5208      10126       55078            Unknown  19-03-2020   \n",
              "469        4365       49317          TaÃÂ¯wan  16-03-2020   \n",
              "\n",
              "                                           OriginalTweet  Sentiment  \n",
              "4583   Hearing so many stories of NHS heroes Teachers...          1  \n",
              "8221   Let s just take a minute to say THANK YOU also...          1  \n",
              "3183   Back at the \"Frontline\"\\r\\r\\nA massive shout o...          1  \n",
              "24347  Massive thanks to @waitrose for my delivery of...          1  \n",
              "3281   Crisp clean fresh air perfect ambience Covid 1...          1  \n",
              "...                                                  ...        ...  \n",
              "8199   The support from customers this week has been ...          1  \n",
              "11636  Margot Robbie is an amazing actress, and love ...          1  \n",
              "23018  Face Mask (Pack of 5) ÃÂ Meeting the need of...          1  \n",
              "5208   There's some amazing work going on in the worl...          1  \n",
              "469    #COVID19 19 A friend of mine in the US works a...          1  \n",
              "\n",
              "[68 rows x 6 columns]"
            ]
          },
          "execution_count": 28,
          "metadata": {},
          "output_type": "execute_result"
        }
      ],
      "source": [
        "train[train['OriginalTweet'].apply(lambda x: 'amazing' in x) & (train['Sentiment'] == 1)]"
      ]
    },
    {
      "cell_type": "code",
      "execution_count": 29,
      "metadata": {
        "id": "jSjbKPCWk87K"
      },
      "outputs": [
        {
          "data": {
            "text/plain": [
              "#coronavirus    0.077315\n",
              "prices          0.104830\n",
              "pandemic        0.144799\n",
              "stock           0.157974\n",
              "global          0.195118\n",
              "around          0.197084\n",
              "look            0.203432\n",
              "result          0.233636\n",
              "story           0.233636\n",
              "major           0.235392\n",
              "growth          0.256262\n",
              "expectations    0.282853\n",
              "built           0.318580\n",
              "regions         0.328379\n",
              "@refinitiv      0.368525\n",
              "#earnings       0.404252\n",
              "dtype: float64"
            ]
          },
          "execution_count": 29,
          "metadata": {},
          "output_type": "execute_result"
        }
      ],
      "source": [
        "ind = 8199\n",
        "example = pd.DataFrame(X[ind].toarray(), columns = tfidf_vec.get_feature_names_out())\n",
        "sum_new = example.sum()\n",
        "sum_new.loc[sum_new != 0.0].sort_values()"
      ]
    },
    {
      "cell_type": "markdown",
      "metadata": {
        "id": "JTv9ST2_U6NA"
      },
      "source": [
        "**Ответ:** По наиболее важным словам видно, что текст посвящен экономическому росту и положительно окрашен"
      ]
    },
    {
      "cell_type": "markdown",
      "metadata": {
        "id": "JVEuZm8BHms6"
      },
      "source": [
        "## Задание 4 Обучение первых моделей (1 балл)"
      ]
    },
    {
      "cell_type": "markdown",
      "metadata": {
        "id": "JADkO3sfXdOG"
      },
      "source": [
        "Примените оба векторайзера для получения матриц с признаками текстов.  Выделите целевую переменную."
      ]
    },
    {
      "cell_type": "code",
      "execution_count": 30,
      "metadata": {
        "id": "DguoiXhCX2oN"
      },
      "outputs": [
        {
          "name": "stderr",
          "output_type": "stream",
          "text": [
            "c:\\Python\\Lib\\site-packages\\sklearn\\feature_extraction\\text.py:525: UserWarning: The parameter 'token_pattern' will not be used since 'tokenizer' is not None'\n",
            "  warnings.warn(\n",
            "C:\\Users\\m.glazman\\AppData\\Local\\Temp\\ipykernel_19784\\2364570482.py:2: DeprecationWarning: invalid escape sequence '\\h'\n",
            "  text = text.encode().decode('unicode-escape') # Без этого выдавало ошибку компиляции\n"
          ]
        }
      ],
      "source": [
        "cnt_vec = CountVectorizer(tokenizer = custom_tokenizer)\n",
        "X_vec = cnt_vec.fit_transform(train['OriginalTweet'])\n",
        "tfidf_vec = TfidfVectorizer(tokenizer = custom_tokenizer)\n",
        "X_tfidf = tfidf_vec.fit_transform(train['OriginalTweet'])"
      ]
    },
    {
      "cell_type": "code",
      "execution_count": 31,
      "metadata": {},
      "outputs": [
        {
          "data": {
            "text/plain": [
              "(23410, 45308)"
            ]
          },
          "execution_count": 31,
          "metadata": {},
          "output_type": "execute_result"
        }
      ],
      "source": [
        "X_vec.shape"
      ]
    },
    {
      "cell_type": "code",
      "execution_count": 32,
      "metadata": {},
      "outputs": [
        {
          "data": {
            "text/plain": [
              "(23410, 45308)"
            ]
          },
          "execution_count": 32,
          "metadata": {},
          "output_type": "execute_result"
        }
      ],
      "source": [
        "X_tfidf.shape"
      ]
    },
    {
      "cell_type": "markdown",
      "metadata": {
        "id": "_FX1KSOfYSx4"
      },
      "source": [
        "Обучите логистическую регрессию на векторах из обоих векторайзеров. Посчитайте долю правильных ответов на обучающих и тестовых данных. Какой векторайзер показал лучший результат? Что можно сказать о моделях?"
      ]
    },
    {
      "cell_type": "markdown",
      "metadata": {},
      "source": [
        "Сначала на CountVectorizer"
      ]
    },
    {
      "cell_type": "code",
      "execution_count": 33,
      "metadata": {
        "id": "-Tb3eh8UXJ6v"
      },
      "outputs": [
        {
          "name": "stderr",
          "output_type": "stream",
          "text": [
            "C:\\Users\\m.glazman\\AppData\\Local\\Temp\\ipykernel_19784\\2364570482.py:2: DeprecationWarning: invalid escape sequence '\\h'\n",
            "  text = text.encode().decode('unicode-escape') # Без этого выдавало ошибку компиляции\n",
            "C:\\Users\\m.glazman\\AppData\\Local\\Temp\\ipykernel_19784\\2364570482.py:2: DeprecationWarning: invalid escape sequence '\\i'\n",
            "  text = text.encode().decode('unicode-escape') # Без этого выдавало ошибку компиляции\n"
          ]
        }
      ],
      "source": [
        "from sklearn.linear_model import LogisticRegression\n",
        "from sklearn.metrics import accuracy_score\n",
        "\n",
        "X_train = cnt_vec.fit_transform(train['OriginalTweet'])\n",
        "y_train = train['Sentiment']\n",
        "X_test = cnt_vec.transform(test['OriginalTweet'])\n",
        "y_test = test['Sentiment']\n",
        "lr = LogisticRegression()\n",
        "lr.fit(X_train, y_train)\n",
        "y_pred_lr = lr.predict(X_test)"
      ]
    },
    {
      "cell_type": "code",
      "execution_count": 34,
      "metadata": {},
      "outputs": [
        {
          "data": {
            "text/plain": [
              "0.8684472792505481"
            ]
          },
          "execution_count": 34,
          "metadata": {},
          "output_type": "execute_result"
        }
      ],
      "source": [
        "accuracy_score(y_test, y_pred_lr)"
      ]
    },
    {
      "cell_type": "markdown",
      "metadata": {},
      "source": [
        "Теперь TfidfVectorizer"
      ]
    },
    {
      "cell_type": "code",
      "execution_count": 35,
      "metadata": {},
      "outputs": [
        {
          "name": "stderr",
          "output_type": "stream",
          "text": [
            "c:\\Python\\Lib\\site-packages\\sklearn\\feature_extraction\\text.py:525: UserWarning: The parameter 'token_pattern' will not be used since 'tokenizer' is not None'\n",
            "  warnings.warn(\n",
            "C:\\Users\\m.glazman\\AppData\\Local\\Temp\\ipykernel_19784\\2364570482.py:2: DeprecationWarning: invalid escape sequence '\\h'\n",
            "  text = text.encode().decode('unicode-escape') # Без этого выдавало ошибку компиляции\n",
            "C:\\Users\\m.glazman\\AppData\\Local\\Temp\\ipykernel_19784\\2364570482.py:2: DeprecationWarning: invalid escape sequence '\\i'\n",
            "  text = text.encode().decode('unicode-escape') # Без этого выдавало ошибку компиляции\n"
          ]
        }
      ],
      "source": [
        "X_train = tfidf_vec.fit_transform(train['OriginalTweet'])\n",
        "y_train = train['Sentiment']\n",
        "X_test = tfidf_vec.transform(test['OriginalTweet'])\n",
        "y_test = test['Sentiment']\n",
        "lr = LogisticRegression()\n",
        "lr.fit(X_train, y_train)\n",
        "y_pred_lr = lr.predict(X_test)"
      ]
    },
    {
      "cell_type": "code",
      "execution_count": 36,
      "metadata": {},
      "outputs": [
        {
          "data": {
            "text/plain": [
              "0.8534981064381104"
            ]
          },
          "execution_count": 36,
          "metadata": {},
          "output_type": "execute_result"
        }
      ],
      "source": [
        "accuracy_score(y_test, y_pred_lr)"
      ]
    },
    {
      "cell_type": "markdown",
      "metadata": {
        "id": "8y_wO7rCmv7K"
      },
      "source": [
        "**Ответ:** CountVectorizer показал себя немного лучше. Возможно это связано с тем, что слова негативной и позитивной окраски часто попадают в конец списка, т.к. используются довольно часто"
      ]
    },
    {
      "cell_type": "markdown",
      "metadata": {
        "id": "rSOR1i3mjrys"
      },
      "source": [
        "## Задание 5 Стемминг (0.5 балла)"
      ]
    },
    {
      "cell_type": "markdown",
      "metadata": {
        "id": "i6ONBWNPjuq-"
      },
      "source": [
        "Для уменьшения словаря можно использовать стемминг.\n",
        "\n",
        "Модифицируйте написанный токенайзер, добавив в него стемминг с использованием SnowballStemmer. Обучите Count- и Tfidf- векторайзеры. Как изменился размер словаря?"
      ]
    },
    {
      "cell_type": "code",
      "execution_count": 37,
      "metadata": {
        "id": "oVfA2-iMkQBb"
      },
      "outputs": [],
      "source": [
        "from nltk.stem.snowball import SnowballStemmer\n",
        "def custom_stem_tokenizer(text):\n",
        "  tokens = custom_tokenizer(text)\n",
        "  stemmer = SnowballStemmer(\"english\")\n",
        "  stemmed_tokens = {stemmer.stem(i) for i in tokens}\n",
        "  return stemmed_tokens"
      ]
    },
    {
      "cell_type": "code",
      "execution_count": 38,
      "metadata": {
        "colab": {
          "base_uri": "https://localhost:8080/"
        },
        "id": "9QmrjYtqnlPd",
        "outputId": "cd91291d-9676-4611-9fc4-28afaed58963"
      },
      "outputs": [
        {
          "data": {
            "text/plain": [
              "{'#sampletext', '@sample_text', 'ad', 'check', 'sampl', 'stem', 'text', 'word'}"
            ]
          },
          "execution_count": 38,
          "metadata": {},
          "output_type": "execute_result"
        }
      ],
      "source": [
        "custom_stem_tokenizer('This is sample text!!!! @Sample_text I, \\x92\\x92 https://t.co/sample  #sampletext adding more words to check stemming')"
      ]
    },
    {
      "cell_type": "code",
      "execution_count": 39,
      "metadata": {
        "colab": {
          "base_uri": "https://localhost:8080/"
        },
        "id": "zAvUTmaplzOS",
        "outputId": "566207fe-183b-4ed6-d333-f86f0cc9ae38"
      },
      "outputs": [
        {
          "name": "stderr",
          "output_type": "stream",
          "text": [
            "c:\\Python\\Lib\\site-packages\\sklearn\\feature_extraction\\text.py:525: UserWarning: The parameter 'token_pattern' will not be used since 'tokenizer' is not None'\n",
            "  warnings.warn(\n",
            "C:\\Users\\m.glazman\\AppData\\Local\\Temp\\ipykernel_19784\\2364570482.py:2: DeprecationWarning: invalid escape sequence '\\h'\n",
            "  text = text.encode().decode('unicode-escape') # Без этого выдавало ошибку компиляции\n",
            "C:\\Users\\m.glazman\\AppData\\Local\\Temp\\ipykernel_19784\\2364570482.py:2: DeprecationWarning: invalid escape sequence '\\i'\n",
            "  text = text.encode().decode('unicode-escape') # Без этого выдавало ошибку компиляции\n"
          ]
        },
        {
          "name": "stdout",
          "output_type": "stream",
          "text": [
            "36652\n"
          ]
        }
      ],
      "source": [
        "cv = CountVectorizer(tokenizer = custom_stem_tokenizer)\n",
        "X_train = cv.fit_transform(train['OriginalTweet'])\n",
        "y_train = train['Sentiment']\n",
        "X_test = cv.transform(test['OriginalTweet'])\n",
        "t_test = test['Sentiment']\n",
        "print(len(cv.vocabulary_))"
      ]
    },
    {
      "cell_type": "markdown",
      "metadata": {
        "id": "Oyzs5TaAoHP6"
      },
      "source": [
        "**Ответ** Словарь уменьшился, потому что разные формы одного слова теперь не считаются разными словами"
      ]
    },
    {
      "cell_type": "markdown",
      "metadata": {
        "id": "1OkncHI8oRmd"
      },
      "source": [
        "Обучите логистическую регрессию с использованием обоих векторайзеров. Изменилось ли качество? Есть ли смысл применять стемминг?"
      ]
    },
    {
      "cell_type": "code",
      "execution_count": 40,
      "metadata": {},
      "outputs": [],
      "source": [
        "lr = LogisticRegression()\n",
        "lr.fit(X_train, y_train)\n",
        "y_pred_lr = lr.predict(X_test)"
      ]
    },
    {
      "cell_type": "code",
      "execution_count": 41,
      "metadata": {},
      "outputs": [
        {
          "data": {
            "text/plain": [
              "0.8650588000797289"
            ]
          },
          "execution_count": 41,
          "metadata": {},
          "output_type": "execute_result"
        }
      ],
      "source": [
        "accuracy_score(y_test, y_pred_lr)"
      ]
    },
    {
      "cell_type": "code",
      "execution_count": 42,
      "metadata": {
        "id": "ykZJPphEoZ5W"
      },
      "outputs": [
        {
          "name": "stderr",
          "output_type": "stream",
          "text": [
            "c:\\Python\\Lib\\site-packages\\sklearn\\feature_extraction\\text.py:525: UserWarning: The parameter 'token_pattern' will not be used since 'tokenizer' is not None'\n",
            "  warnings.warn(\n",
            "C:\\Users\\m.glazman\\AppData\\Local\\Temp\\ipykernel_19784\\2364570482.py:2: DeprecationWarning: invalid escape sequence '\\h'\n",
            "  text = text.encode().decode('unicode-escape') # Без этого выдавало ошибку компиляции\n",
            "C:\\Users\\m.glazman\\AppData\\Local\\Temp\\ipykernel_19784\\2364570482.py:2: DeprecationWarning: invalid escape sequence '\\i'\n",
            "  text = text.encode().decode('unicode-escape') # Без этого выдавало ошибку компиляции\n"
          ]
        }
      ],
      "source": [
        "tfidf = TfidfVectorizer(tokenizer = custom_stem_tokenizer)\n",
        "X_train = tfidf.fit_transform(train['OriginalTweet'])\n",
        "X_test = tfidf.transform(test['OriginalTweet'])"
      ]
    },
    {
      "cell_type": "code",
      "execution_count": 43,
      "metadata": {},
      "outputs": [],
      "source": [
        "lr = LogisticRegression()\n",
        "lr.fit(X_train, y_train)\n",
        "y_pred_lr = lr.predict(X_test)"
      ]
    },
    {
      "cell_type": "code",
      "execution_count": 44,
      "metadata": {},
      "outputs": [
        {
          "data": {
            "text/plain": [
              "0.8566872633047639"
            ]
          },
          "execution_count": 44,
          "metadata": {},
          "output_type": "execute_result"
        }
      ],
      "source": [
        "accuracy_score(y_test, y_pred_lr)"
      ]
    },
    {
      "cell_type": "markdown",
      "metadata": {
        "id": "bCRlrODro0h8"
      },
      "source": [
        "**Ответ:** #Скор почти не изменился в обоих случаях, стемминг в данном случае не очень эффективен"
      ]
    },
    {
      "cell_type": "markdown",
      "metadata": {
        "id": "hYWGQNEDqLC-"
      },
      "source": [
        "## Задание  6 Работа с частотами (1.5 балла)"
      ]
    },
    {
      "cell_type": "markdown",
      "metadata": {
        "id": "8Hq-tl5mqUSn"
      },
      "source": [
        "Еще один способ уменьшить количество признаков - это использовать параметры min_df и max_df при построении векторайзера  эти параметры помогают ограничить требуемую частоту встречаемости токена в документах.\n",
        "\n",
        "По умолчанию берутся все токены, которые встретились хотя бы один раз.\n",
        "\n"
      ]
    },
    {
      "cell_type": "markdown",
      "metadata": {
        "id": "m1SiD4DE3WZ2"
      },
      "source": [
        "Подберите max_df такой, что размер словаря будет 36651 (на 1 меньше, чем было). Почему параметр получился такой большой/маленький?"
      ]
    },
    {
      "cell_type": "code",
      "execution_count": 45,
      "metadata": {},
      "outputs": [
        {
          "name": "stderr",
          "output_type": "stream",
          "text": [
            "c:\\Python\\Lib\\site-packages\\sklearn\\feature_extraction\\text.py:525: UserWarning: The parameter 'token_pattern' will not be used since 'tokenizer' is not None'\n",
            "  warnings.warn(\n",
            "C:\\Users\\m.glazman\\AppData\\Local\\Temp\\ipykernel_19784\\2364570482.py:2: DeprecationWarning: invalid escape sequence '\\h'\n",
            "  text = text.encode().decode('unicode-escape') # Без этого выдавало ошибку компиляции\n"
          ]
        }
      ],
      "source": [
        "X = cv.fit_transform(train['OriginalTweet'])"
      ]
    },
    {
      "cell_type": "code",
      "execution_count": 46,
      "metadata": {
        "colab": {
          "base_uri": "https://localhost:8080/"
        },
        "id": "o3YLb8PViExb",
        "outputId": "b6d67654-d232-4e11-a5ca-6f2145053e98"
      },
      "outputs": [
        {
          "name": "stderr",
          "output_type": "stream",
          "text": [
            "C:\\Users\\m.glazman\\AppData\\Local\\Temp\\ipykernel_19784\\2364570482.py:2: DeprecationWarning: invalid escape sequence '\\h'\n",
            "  text = text.encode().decode('unicode-escape') # Без этого выдавало ошибку компиляции\n"
          ]
        },
        {
          "name": "stdout",
          "output_type": "stream",
          "text": [
            "36651\n"
          ]
        }
      ],
      "source": [
        "cv_df = CountVectorizer(tokenizer=custom_stem_tokenizer,\n",
        "                        max_df = X.toarray().sum(axis = 0).max()-1\n",
        "                        ).fit(train['OriginalTweet'])\n",
        "print(len(cv_df.vocabulary_))"
      ]
    },
    {
      "cell_type": "markdown",
      "metadata": {
        "id": "UdZYoGZR4UsA"
      },
      "source": [
        "**Ответ:** ну он очень большой, т.к. нужно отсекать только наибольшую частоту"
      ]
    },
    {
      "cell_type": "markdown",
      "metadata": {
        "id": "_gRIUaB1u32f"
      },
      "source": [
        "Подберите min_df (используйте дефолтное значение max_df) в CountVectorizer таким образом, чтобы размер словаря был 3700 токенов (при использовании токенайзера со стеммингом), а качество осталось таким же, как и было. Что можно сказать о результатах?"
      ]
    },
    {
      "cell_type": "code",
      "execution_count": 47,
      "metadata": {},
      "outputs": [
        {
          "data": {
            "text/plain": [
              "10"
            ]
          },
          "execution_count": 47,
          "metadata": {},
          "output_type": "execute_result"
        }
      ],
      "source": [
        "min_df = np.sort(X.toarray().sum(axis = 0))\n",
        "ind = 36652 - 3700\n",
        "min_df[ind]"
      ]
    },
    {
      "cell_type": "code",
      "execution_count": 48,
      "metadata": {
        "colab": {
          "base_uri": "https://localhost:8080/"
        },
        "id": "kSnMJkn9XmsT",
        "outputId": "e0d8eb21-e5d7-46b4-e1d1-4b1ae220e9a0"
      },
      "outputs": [
        {
          "name": "stderr",
          "output_type": "stream",
          "text": [
            "C:\\Users\\m.glazman\\AppData\\Local\\Temp\\ipykernel_19784\\2364570482.py:2: DeprecationWarning: invalid escape sequence '\\h'\n",
            "  text = text.encode().decode('unicode-escape') # Без этого выдавало ошибку компиляции\n"
          ]
        },
        {
          "name": "stdout",
          "output_type": "stream",
          "text": [
            "3699\n"
          ]
        }
      ],
      "source": [
        "cv_df = CountVectorizer(tokenizer=custom_stem_tokenizer,\n",
        "                        min_df = 11\n",
        "                        ).fit(train['OriginalTweet'])\n",
        "print(len(cv_df.vocabulary_))"
      ]
    },
    {
      "cell_type": "markdown",
      "metadata": {
        "id": "3fGYpUIZx0fk"
      },
      "source": [
        "**Ответ:** Получилось подобрать частоту только для 3699 элементов(далее идут слова с одинаковой частотой = 10). Хочется отметить, что в словаре около 90% слов встречались 10 и менее раз"
      ]
    },
    {
      "cell_type": "markdown",
      "metadata": {
        "id": "Gx_h_-inKbBl"
      },
      "source": [
        "В предыдущих заданиях признаки не скалировались. Отскалируйте данные (при словаре размера 3.7 тысяч, векторизованные CountVectorizer), обучите логистическую регрессию, посмотрите качество и выведите `berplot` содержащий по 10 токенов, с наибольшим по модулю положительными/отрицательными весами. Что можно сказать об этих токенах?"
      ]
    },
    {
      "cell_type": "code",
      "execution_count": 49,
      "metadata": {
        "id": "KBATXJX6LG9q"
      },
      "outputs": [
        {
          "name": "stderr",
          "output_type": "stream",
          "text": [
            "C:\\Users\\m.glazman\\AppData\\Local\\Temp\\ipykernel_19784\\2364570482.py:2: DeprecationWarning: invalid escape sequence '\\h'\n",
            "  text = text.encode().decode('unicode-escape') # Без этого выдавало ошибку компиляции\n",
            "C:\\Users\\m.glazman\\AppData\\Local\\Temp\\ipykernel_19784\\2364570482.py:2: DeprecationWarning: invalid escape sequence '\\i'\n",
            "  text = text.encode().decode('unicode-escape') # Без этого выдавало ошибку компиляции\n"
          ]
        }
      ],
      "source": [
        "from sklearn.preprocessing import StandardScaler\n",
        "np.random.seed(25)\n",
        "y_train = train['Sentiment']\n",
        "y_test = test['Sentiment']\n",
        "X_train = cv_df.fit_transform(train['OriginalTweet'])\n",
        "scaler = StandardScaler()\n",
        "x_train_norm = pd.DataFrame(data = scaler.fit_transform(X_train.toarray()))\n",
        "X_test = cv_df.transform(test['OriginalTweet'])\n",
        "x_test_norm  = pd.DataFrame(data = scaler.fit_transform(X_test.toarray()))"
      ]
    },
    {
      "cell_type": "code",
      "execution_count": 50,
      "metadata": {},
      "outputs": [],
      "source": [
        "lr = LogisticRegression()\n",
        "lr.fit(x_train_norm, y_train)\n",
        "y_pred_lr = lr.predict(x_test_norm)"
      ]
    },
    {
      "cell_type": "code",
      "execution_count": 51,
      "metadata": {},
      "outputs": [
        {
          "data": {
            "text/plain": [
              "0.8416384293402431"
            ]
          },
          "execution_count": 51,
          "metadata": {},
          "output_type": "execute_result"
        }
      ],
      "source": [
        "accuracy_score(y_test, y_pred_lr)"
      ]
    },
    {
      "cell_type": "code",
      "execution_count": 52,
      "metadata": {},
      "outputs": [
        {
          "data": {
            "text/plain": [
              "array([-0.01957672,  0.01883107,  0.04374616, ...,  0.00478728,\n",
              "       -0.00409783, -0.02248414])"
            ]
          },
          "execution_count": 52,
          "metadata": {},
          "output_type": "execute_result"
        }
      ],
      "source": [
        "lr.coef_[0]"
      ]
    },
    {
      "cell_type": "code",
      "execution_count": 53,
      "metadata": {},
      "outputs": [
        {
          "data": {
            "text/plain": [
              "array(['#2020', '#21daylockdown', '#21dayslockdown', ..., 'zombi', 'zone',\n",
              "       'zoom'], dtype=object)"
            ]
          },
          "execution_count": 53,
          "metadata": {},
          "output_type": "execute_result"
        }
      ],
      "source": [
        "cv_df.get_feature_names_out()"
      ]
    },
    {
      "cell_type": "code",
      "execution_count": 54,
      "metadata": {},
      "outputs": [
        {
          "data": {
            "image/png": "[encoded data removed]",
            "text/plain": [
              "<Figure size 1500x600 with 2 Axes>"
            ]
          },
          "metadata": {},
          "output_type": "display_data"
        }
      ],
      "source": [
        "import matplotlib.pyplot as plt\n",
        "\n",
        "coefficients = lr.coef_[0]\n",
        "#создаем датафрэйм коэффициентов где строка: токен - его вес\n",
        "coefficients_df = pd.DataFrame({'Token': cv_df.get_feature_names_out(), 'Coefficient': coefficients})\n",
        "\n",
        "#сортируем по модулю веса\n",
        "coefficients_df['Abs_Coefficient'] = coefficients_df['Coefficient'].abs()\n",
        "coefficients_df = coefficients_df.sort_values(by='Abs_Coefficient', ascending=False)\n",
        "\n",
        "#два отедльных df для графика\n",
        "top_positive = coefficients_df.head(10)\n",
        "top_negative = coefficients_df.tail(10)\n",
        "\n",
        "#сроим barplot по полученным ранее датасетам top_positive и top-negative\n",
        "plt.figure(figsize=(15, 6))\n",
        "\n",
        "plt.subplot(1, 2, 1)\n",
        "plt.barh(top_positive['Token'], top_positive['Coefficient'], color='green')\n",
        "plt.xlabel('Coefficient')\n",
        "plt.title('Top 10 Positive Tokens')\n",
        "\n",
        "plt.subplot(1, 2, 2)\n",
        "plt.barh(top_negative['Token'], top_negative['Coefficient'], color='red')\n",
        "plt.xlabel('Coefficient')\n",
        "plt.title('Top 10 Negative Tokens')\n",
        "\n",
        "plt.tight_layout()\n",
        "plt.show()"
      ]
    },
    {
      "cell_type": "markdown",
      "metadata": {
        "id": "ThcEfzY1LHET"
      },
      "source": [
        "**Ответ:** Наибольшими значениями обладают токены, несущие эмоциональный окрас, наименьшими - обычные часто-встречающиеся слова. Это и логично, т.к. по \"зеленым\" токенам намного больше можно сказать о настроении твита (я примерно их и использовал для поиска хороших/плохих)"
      ]
    },
    {
      "cell_type": "markdown",
      "metadata": {
        "id": "ktJVOdrIHq7B"
      },
      "source": [
        "## Задание 7 Другие признаки (1.5 балла)"
      ]
    },
    {
      "cell_type": "markdown",
      "metadata": {
        "id": "Yt3jRCZ2H0Og"
      },
      "source": [
        "Мы были сконцентрированы на работе с текстами твиттов и не использовали другие признаки - имена пользователя, дату и местоположение"
      ]
    },
    {
      "cell_type": "markdown",
      "metadata": {
        "id": "52wjewCCo_di"
      },
      "source": [
        "Изучите признаки UserName и ScreenName. полезны ли они? Если полезны, то закодируйте их, добавьте к матрице с отскалированными признаками, обучите логистическую регрессию, замерьте качество."
      ]
    },
    {
      "cell_type": "code",
      "execution_count": 56,
      "metadata": {},
      "outputs": [
        {
          "data": {
            "text/html": [
              "<div>\n",
              "<style scoped>\n",
              "    .dataframe tbody tr th:only-of-type {\n",
              "        vertical-align: middle;\n",
              "    }\n",
              "\n",
              "    .dataframe tbody tr th {\n",
              "        vertical-align: top;\n",
              "    }\n",
              "\n",
              "    .dataframe thead th {\n",
              "        text-align: right;\n",
              "    }\n",
              "</style>\n",
              "<table border=\"1\" class=\"dataframe\">\n",
              "  <thead>\n",
              "    <tr style=\"text-align: right;\">\n",
              "      <th></th>\n",
              "      <th>UserName</th>\n",
              "      <th>ScreenName</th>\n",
              "      <th>Sentiment</th>\n",
              "    </tr>\n",
              "  </thead>\n",
              "  <tbody>\n",
              "    <tr>\n",
              "      <th>25621</th>\n",
              "      <td>35178</td>\n",
              "      <td>80130</td>\n",
              "      <td>1</td>\n",
              "    </tr>\n",
              "    <tr>\n",
              "      <th>30135</th>\n",
              "      <td>40819</td>\n",
              "      <td>85771</td>\n",
              "      <td>1</td>\n",
              "    </tr>\n",
              "    <tr>\n",
              "      <th>28899</th>\n",
              "      <td>39249</td>\n",
              "      <td>84201</td>\n",
              "      <td>1</td>\n",
              "    </tr>\n",
              "    <tr>\n",
              "      <th>5989</th>\n",
              "      <td>11068</td>\n",
              "      <td>56020</td>\n",
              "      <td>0</td>\n",
              "    </tr>\n",
              "    <tr>\n",
              "      <th>4367</th>\n",
              "      <td>9109</td>\n",
              "      <td>54061</td>\n",
              "      <td>1</td>\n",
              "    </tr>\n",
              "    <tr>\n",
              "      <th>21350</th>\n",
              "      <td>29840</td>\n",
              "      <td>74792</td>\n",
              "      <td>1</td>\n",
              "    </tr>\n",
              "    <tr>\n",
              "      <th>15378</th>\n",
              "      <td>22516</td>\n",
              "      <td>67468</td>\n",
              "      <td>1</td>\n",
              "    </tr>\n",
              "    <tr>\n",
              "      <th>26258</th>\n",
              "      <td>35962</td>\n",
              "      <td>80914</td>\n",
              "      <td>0</td>\n",
              "    </tr>\n",
              "    <tr>\n",
              "      <th>11184</th>\n",
              "      <td>17370</td>\n",
              "      <td>62322</td>\n",
              "      <td>1</td>\n",
              "    </tr>\n",
              "    <tr>\n",
              "      <th>5104</th>\n",
              "      <td>10001</td>\n",
              "      <td>54953</td>\n",
              "      <td>0</td>\n",
              "    </tr>\n",
              "  </tbody>\n",
              "</table>\n",
              "</div>"
            ],
            "text/plain": [
              "       UserName  ScreenName  Sentiment\n",
              "25621     35178       80130          1\n",
              "30135     40819       85771          1\n",
              "28899     39249       84201          1\n",
              "5989      11068       56020          0\n",
              "4367       9109       54061          1\n",
              "21350     29840       74792          1\n",
              "15378     22516       67468          1\n",
              "26258     35962       80914          0\n",
              "11184     17370       62322          1\n",
              "5104      10001       54953          0"
            ]
          },
          "execution_count": 56,
          "metadata": {},
          "output_type": "execute_result"
        }
      ],
      "source": [
        "train[['UserName', 'ScreenName', 'Sentiment']].head(10)"
      ]
    },
    {
      "cell_type": "markdown",
      "metadata": {
        "id": "r8_qR-gnpT3a"
      },
      "source": [
        "**Ответ:** Я повыводил разные части df тут вроде и без графиков понятно что они не нужны. Да и концептуально от устройства и id user его отношение к covid-19 врядли зависит"
      ]
    },
    {
      "cell_type": "markdown",
      "metadata": {
        "id": "ythEcFSkt7y3"
      },
      "source": [
        "Изучите признак TweetAt в обучающей выборке: преобразуйте его к типу datetime и нарисуйте его гистограмму с разделением по цвету на оспнове целевой переменной. Полезен ли он? Если полезен, то закодируйте его, добавьте к матрице с отскалированными признаками, обучите логистическую регрессию, замерьте качество."
      ]
    },
    {
      "cell_type": "code",
      "execution_count": 58,
      "metadata": {},
      "outputs": [
        {
          "data": {
            "text/plain": [
              "25621    06-04-2020\n",
              "30135    10-04-2020\n",
              "28899    09-04-2020\n",
              "5989     19-03-2020\n",
              "4367     18-03-2020\n",
              "            ...    \n",
              "20757    31-03-2020\n",
              "32103    13-04-2020\n",
              "30403    10-04-2020\n",
              "21243    01-04-2020\n",
              "2732     18-03-2020\n",
              "Name: TweetAt, Length: 23410, dtype: object"
            ]
          },
          "execution_count": 58,
          "metadata": {},
          "output_type": "execute_result"
        }
      ],
      "source": [
        "train['TweetAt']"
      ]
    },
    {
      "cell_type": "code",
      "execution_count": 77,
      "metadata": {},
      "outputs": [
        {
          "data": {
            "image/png": "[encoded data removed]",
            "text/plain": [
              "<Figure size 1500x600 with 1 Axes>"
            ]
          },
          "metadata": {},
          "output_type": "display_data"
        }
      ],
      "source": [
        "train['TweetAt'] = pd.to_datetime(train['TweetAt'], format = '%d-%m-%Y')\n",
        "plt.figure(figsize = (15, 6))\n",
        "plt.hist(train['TweetAt'], bins = 10)\n",
        "plt.title('Histogram of tweet time')\n",
        "plt.xlabel('date')\n",
        "plt.ylabel('Frequency')\n",
        "plt.show()"
      ]
    },
    {
      "cell_type": "code",
      "execution_count": 82,
      "metadata": {},
      "outputs": [
        {
          "data": {
            "image/png": "[encoded data removed]",
            "text/plain": [
              "<Figure size 1200x600 with 1 Axes>"
            ]
          },
          "metadata": {},
          "output_type": "display_data"
        }
      ],
      "source": [
        "positive = train[train['Sentiment'] == 1]['TweetAt']\n",
        "negative = train[train['Sentiment'] == 0]['TweetAt']\n",
        "\n",
        "plt.figure(figsize=(12, 6))\n",
        "\n",
        "#просто создаем 2 гистограммы на одном графике с раскраской в зависимости от sentiment\n",
        "plt.hist([positive, negative], bins=10, alpha=0.5, label=['Sentiment 1', 'Sentiment 0'], color=['blue', 'red'])\n",
        "\n",
        "plt.title('Histogram of tweet time')\n",
        "plt.xlabel('date')\n",
        "plt.ylabel('Frequency')\n",
        "plt.legend()\n",
        "plt.show()\n"
      ]
    },
    {
      "cell_type": "markdown",
      "metadata": {
        "id": "4IdLBdpQxM-G"
      },
      "source": [
        "**Ответ:** Как видно в зависимости от даты доля положительных/отрицательных твитов не отличается => он не имеет смысла\n",
        "\n"
      ]
    },
    {
      "cell_type": "markdown",
      "metadata": {
        "id": "r2JtRPhNP6qx"
      },
      "source": [
        "Поработайте с признаком Location в обучающей выборке. Сколько уникальных значений?"
      ]
    },
    {
      "cell_type": "code",
      "execution_count": 118,
      "metadata": {
        "id": "xYQZQ1FRNpoe"
      },
      "outputs": [
        {
          "data": {
            "text/plain": [
              "7949"
            ]
          },
          "execution_count": 118,
          "metadata": {},
          "output_type": "execute_result"
        }
      ],
      "source": [
        "train['Location'].nunique()"
      ]
    },
    {
      "cell_type": "markdown",
      "metadata": {
        "id": "6k4JwpRTQISa"
      },
      "source": [
        "Постройте гистограмму топ-10 по популярности местоположений (исключая Unknown)"
      ]
    },
    {
      "cell_type": "code",
      "execution_count": 119,
      "metadata": {},
      "outputs": [],
      "source": [
        "top_10 = train['Location'].value_counts().sort_values(ascending = False)[1:11]"
      ]
    },
    {
      "cell_type": "code",
      "execution_count": 115,
      "metadata": {},
      "outputs": [
        {
          "data": {
            "image/png": "[encoded data removed]",
            "text/plain": [
              "<Figure size 1500x600 with 1 Axes>"
            ]
          },
          "metadata": {},
          "output_type": "display_data"
        }
      ],
      "source": [
        "plt.figure(figsize=(15, 6))\n",
        "\n",
        "plt.bar(top_10.index, top_10.values, color='skyblue')\n",
        "plt.title('Top 10 Locations')\n",
        "plt.xlabel('Location')\n",
        "plt.ylabel('Count')\n",
        "\n",
        "#для лучшей читаемости\n",
        "plt.tight_layout()\n",
        "\n",
        "plt.show()"
      ]
    },
    {
      "cell_type": "markdown",
      "metadata": {
        "id": "ZOsv3lODTfYB"
      },
      "source": [
        "Видно, что многие местоположения включают в себя более точное название места, чем другие (Например, у некоторых стоит London, UK; а у некоторых просто UK или United Kingdom).\n",
        "\n",
        "Создайте новый признак WiderLocation, который содержит самое широкое местоположение (например, из London, UK должно получиться UK). Сколько уникальных категорий теперь? Постройте аналогичную гистограмму."
      ]
    },
    {
      "cell_type": "code",
      "execution_count": 116,
      "metadata": {
        "id": "mSkow6acOMyD"
      },
      "outputs": [],
      "source": [
        "def get_wider_location(location):\n",
        "    location_list = location.split(', ')\n",
        "    if len(location_list) > 1: return location_list[-1]  \n",
        "    else: return location\n",
        "\n",
        "train['WiderLocation'] = train['Location'].apply(get_wider_location)"
      ]
    },
    {
      "cell_type": "code",
      "execution_count": 117,
      "metadata": {},
      "outputs": [
        {
          "data": {
            "text/plain": [
              "4921"
            ]
          },
          "execution_count": 117,
          "metadata": {},
          "output_type": "execute_result"
        }
      ],
      "source": [
        "train['WiderLocation'].nunique()"
      ]
    },
    {
      "cell_type": "code",
      "execution_count": 120,
      "metadata": {},
      "outputs": [],
      "source": [
        "top_10 =train ['WiderLocation'].value_counts().sort_values(ascending = False)[1:11]"
      ]
    },
    {
      "cell_type": "code",
      "execution_count": 121,
      "metadata": {},
      "outputs": [
        {
          "data": {
            "image/png": "[encoded data removed]",
            "text/plain": [
              "<Figure size 1500x600 with 1 Axes>"
            ]
          },
          "metadata": {},
          "output_type": "display_data"
        }
      ],
      "source": [
        "plt.figure(figsize=(15, 6))\n",
        "\n",
        "plt.bar(top_10.index, top_10.values, color='skyblue')\n",
        "plt.title('Top 10 Locations')\n",
        "plt.xlabel('Location')\n",
        "plt.ylabel('Count')\n",
        "\n",
        "#для лучшей читаемости\n",
        "plt.tight_layout()\n",
        "\n",
        "plt.show()"
      ]
    },
    {
      "cell_type": "markdown",
      "metadata": {
        "id": "cgyWrD2eVfff"
      },
      "source": [
        "Закодируйте признак WiderLocation с помощью OHE таким образом, чтобы создались только столбцы для местоположений, которые встречаются более одного раза. Сколько таких значений?\n"
      ]
    },
    {
      "cell_type": "code",
      "execution_count": 130,
      "metadata": {
        "id": "SeJBfBWgPvg_"
      },
      "outputs": [
        {
          "data": {
            "text/plain": [
              "1010"
            ]
          },
          "execution_count": 130,
          "metadata": {},
          "output_type": "execute_result"
        }
      ],
      "source": [
        "# Отбор местоположений, которые встречаются более одного раза\n",
        "frequent_locations = train['WiderLocation'].value_counts()[train['WiderLocation'].value_counts() > 1].index.tolist()\n",
        "\n",
        "#Применяем OHE\n",
        "ohe = pd.get_dummies(train['WiderLocation'][train['WiderLocation'].isin(frequent_locations)])\n",
        "\n",
        "len(ohe.columns)"
      ]
    },
    {
      "cell_type": "markdown",
      "metadata": {
        "id": "ZyMX5kZuimPK"
      },
      "source": [
        "Добавьте этот признак к матрице отскалированных текстовых признаков, обучите логистическую регрессию, замерьте качество. Как оно изменилось? Оказался ли признак полезным?\n",
        "\n",
        "\n",
        "*Подсказка:* используйте параметр `categories` в энкодере."
      ]
    },
    {
      "cell_type": "markdown",
      "metadata": {
        "id": "7dHsGlDRYUQt"
      },
      "source": [
        "**Ответ:** Я пытался, у меня не получилось("
      ]
    },
    {
      "cell_type": "markdown",
      "metadata": {
        "id": "IWn6h4W9eD3S"
      },
      "source": [
        "## Задание 8 Хорошее качество (Бонус 1 балл)"
      ]
    },
    {
      "cell_type": "markdown",
      "metadata": {
        "id": "-HDI0SU6eLgi"
      },
      "source": [
        "Добейтесь accuracy=0.9 на тестовой выборке (можно сменить токенайзер, векторайзер, модель и т.д.)"
      ]
    }
  ],
  "metadata": {
    "colab": {
      "provenance": [],
      "toc_visible": true
    },
    "kernelspec": {
      "display_name": "Python 3",
      "name": "python3"
    },
    "language_info": {
      "codemirror_mode": {
        "name": "ipython",
        "version": 3
      },
      "file_extension": ".py",
      "mimetype": "text/x-python",
      "name": "python",
      "nbconvert_exporter": "python",
      "pygments_lexer": "ipython3",
      "version": "3.11.1"
    }
  },
  "nbformat": 4,
  "nbformat_minor": 0
}
